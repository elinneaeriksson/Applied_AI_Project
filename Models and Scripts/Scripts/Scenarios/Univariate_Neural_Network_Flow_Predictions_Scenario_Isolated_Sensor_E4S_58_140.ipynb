{
 "cells": [
  {
   "cell_type": "markdown",
   "metadata": {},
   "source": [
    "# Univariate Neural Network Flow Predictions Scenario Isolated Sensor E4S 58.140"
   ]
  },
  {
   "cell_type": "markdown",
   "metadata": {},
   "source": [
    "# Imports of Libraries and Datasets"
   ]
  },
  {
   "cell_type": "code",
   "execution_count": 1,
   "metadata": {
    "id": "u0PXjnRBCRuP"
   },
   "outputs": [],
   "source": [
    "import pandas as pd\n",
    "from sklearn.model_selection import train_test_split\n",
    "%matplotlib inline\n",
    "import matplotlib.pyplot as plt\n",
    "import seaborn as sns\n",
    "from tensorflow.keras.models import Sequential\n",
    "from tensorflow.keras.layers import Dense\n",
    "from tensorflow.keras.layers import Dropout\n",
    "from tensorflow.keras.callbacks import EarlyStopping, ReduceLROnPlateau, ModelCheckpoint\n",
    "from keras.models import load_model\n",
    "from sklearn.linear_model import LinearRegression\n",
    "from sklearn.metrics import mean_absolute_error, mean_squared_error, r2_score\n",
    "from sklearn.preprocessing import StandardScaler, MinMaxScaler"
   ]
  },
  {
   "cell_type": "code",
   "execution_count": 2,
   "metadata": {
    "id": "OQM6DvSnRXAe"
   },
   "outputs": [],
   "source": [
    "from tensorflow.keras.optimizers import Adam\n",
    "from tensorflow.keras.callbacks import EarlyStopping, ReduceLROnPlateau\n",
    "import tensorflow as tf"
   ]
  },
  {
   "cell_type": "code",
   "execution_count": 3,
   "metadata": {
    "colab": {
     "base_uri": "https://localhost:8080/"
    },
    "id": "RVSYn8SQQX1D",
    "outputId": "182190e2-fc27-4cd2-915e-7909925cf3b7"
   },
   "outputs": [
    {
     "name": "stdout",
     "output_type": "stream",
     "text": [
      "Requirement already satisfied: tensorflow in /Users/algotsjoholm/anaconda3/lib/python3.11/site-packages (2.17.0)\n",
      "Requirement already satisfied: absl-py>=1.0.0 in /Users/algotsjoholm/anaconda3/lib/python3.11/site-packages (from tensorflow) (2.1.0)\n",
      "Requirement already satisfied: astunparse>=1.6.0 in /Users/algotsjoholm/anaconda3/lib/python3.11/site-packages (from tensorflow) (1.6.3)\n",
      "Requirement already satisfied: flatbuffers>=24.3.25 in /Users/algotsjoholm/anaconda3/lib/python3.11/site-packages (from tensorflow) (24.3.25)\n",
      "Requirement already satisfied: gast!=0.5.0,!=0.5.1,!=0.5.2,>=0.2.1 in /Users/algotsjoholm/anaconda3/lib/python3.11/site-packages (from tensorflow) (0.6.0)\n",
      "Requirement already satisfied: google-pasta>=0.1.1 in /Users/algotsjoholm/anaconda3/lib/python3.11/site-packages (from tensorflow) (0.2.0)\n",
      "Requirement already satisfied: h5py>=3.10.0 in /Users/algotsjoholm/anaconda3/lib/python3.11/site-packages (from tensorflow) (3.12.1)\n",
      "Requirement already satisfied: libclang>=13.0.0 in /Users/algotsjoholm/anaconda3/lib/python3.11/site-packages (from tensorflow) (18.1.1)\n",
      "Requirement already satisfied: ml-dtypes<0.5.0,>=0.3.1 in /Users/algotsjoholm/anaconda3/lib/python3.11/site-packages (from tensorflow) (0.4.1)\n",
      "Requirement already satisfied: opt-einsum>=2.3.2 in /Users/algotsjoholm/anaconda3/lib/python3.11/site-packages (from tensorflow) (3.4.0)\n",
      "Requirement already satisfied: packaging in /Users/algotsjoholm/anaconda3/lib/python3.11/site-packages (from tensorflow) (23.0)\n",
      "Requirement already satisfied: protobuf!=4.21.0,!=4.21.1,!=4.21.2,!=4.21.3,!=4.21.4,!=4.21.5,<5.0.0dev,>=3.20.3 in /Users/algotsjoholm/anaconda3/lib/python3.11/site-packages (from tensorflow) (4.25.5)\n",
      "Requirement already satisfied: requests<3,>=2.21.0 in /Users/algotsjoholm/anaconda3/lib/python3.11/site-packages (from tensorflow) (2.31.0)\n",
      "Requirement already satisfied: setuptools in /Users/algotsjoholm/anaconda3/lib/python3.11/site-packages (from tensorflow) (68.0.0)\n",
      "Requirement already satisfied: six>=1.12.0 in /Users/algotsjoholm/anaconda3/lib/python3.11/site-packages (from tensorflow) (1.16.0)\n",
      "Requirement already satisfied: termcolor>=1.1.0 in /Users/algotsjoholm/anaconda3/lib/python3.11/site-packages (from tensorflow) (2.5.0)\n",
      "Requirement already satisfied: typing-extensions>=3.6.6 in /Users/algotsjoholm/anaconda3/lib/python3.11/site-packages (from tensorflow) (4.7.1)\n",
      "Requirement already satisfied: wrapt>=1.11.0 in /Users/algotsjoholm/anaconda3/lib/python3.11/site-packages (from tensorflow) (1.14.1)\n",
      "Requirement already satisfied: grpcio<2.0,>=1.24.3 in /Users/algotsjoholm/anaconda3/lib/python3.11/site-packages (from tensorflow) (1.66.2)\n",
      "Requirement already satisfied: tensorboard<2.18,>=2.17 in /Users/algotsjoholm/anaconda3/lib/python3.11/site-packages (from tensorflow) (2.17.1)\n",
      "Requirement already satisfied: keras>=3.2.0 in /Users/algotsjoholm/anaconda3/lib/python3.11/site-packages (from tensorflow) (3.6.0)\n",
      "Requirement already satisfied: tensorflow-io-gcs-filesystem>=0.23.1 in /Users/algotsjoholm/anaconda3/lib/python3.11/site-packages (from tensorflow) (0.37.1)\n",
      "Requirement already satisfied: numpy<2.0.0,>=1.23.5 in /Users/algotsjoholm/anaconda3/lib/python3.11/site-packages (from tensorflow) (1.24.3)\n",
      "Requirement already satisfied: wheel<1.0,>=0.23.0 in /Users/algotsjoholm/anaconda3/lib/python3.11/site-packages (from astunparse>=1.6.0->tensorflow) (0.38.4)\n",
      "Requirement already satisfied: rich in /Users/algotsjoholm/anaconda3/lib/python3.11/site-packages (from keras>=3.2.0->tensorflow) (13.9.2)\n",
      "Requirement already satisfied: namex in /Users/algotsjoholm/anaconda3/lib/python3.11/site-packages (from keras>=3.2.0->tensorflow) (0.0.8)\n",
      "Requirement already satisfied: optree in /Users/algotsjoholm/anaconda3/lib/python3.11/site-packages (from keras>=3.2.0->tensorflow) (0.13.0)\n",
      "Requirement already satisfied: charset-normalizer<4,>=2 in /Users/algotsjoholm/anaconda3/lib/python3.11/site-packages (from requests<3,>=2.21.0->tensorflow) (2.0.4)\n",
      "Requirement already satisfied: idna<4,>=2.5 in /Users/algotsjoholm/anaconda3/lib/python3.11/site-packages (from requests<3,>=2.21.0->tensorflow) (3.4)\n",
      "Requirement already satisfied: urllib3<3,>=1.21.1 in /Users/algotsjoholm/anaconda3/lib/python3.11/site-packages (from requests<3,>=2.21.0->tensorflow) (1.26.16)\n",
      "Requirement already satisfied: certifi>=2017.4.17 in /Users/algotsjoholm/anaconda3/lib/python3.11/site-packages (from requests<3,>=2.21.0->tensorflow) (2023.7.22)\n",
      "Requirement already satisfied: markdown>=2.6.8 in /Users/algotsjoholm/anaconda3/lib/python3.11/site-packages (from tensorboard<2.18,>=2.17->tensorflow) (3.4.1)\n",
      "Requirement already satisfied: tensorboard-data-server<0.8.0,>=0.7.0 in /Users/algotsjoholm/anaconda3/lib/python3.11/site-packages (from tensorboard<2.18,>=2.17->tensorflow) (0.7.2)\n",
      "Requirement already satisfied: werkzeug>=1.0.1 in /Users/algotsjoholm/anaconda3/lib/python3.11/site-packages (from tensorboard<2.18,>=2.17->tensorflow) (2.2.3)\n",
      "Requirement already satisfied: MarkupSafe>=2.1.1 in /Users/algotsjoholm/anaconda3/lib/python3.11/site-packages (from werkzeug>=1.0.1->tensorboard<2.18,>=2.17->tensorflow) (2.1.1)\n",
      "Requirement already satisfied: markdown-it-py>=2.2.0 in /Users/algotsjoholm/anaconda3/lib/python3.11/site-packages (from rich->keras>=3.2.0->tensorflow) (2.2.0)\n",
      "Requirement already satisfied: pygments<3.0.0,>=2.13.0 in /Users/algotsjoholm/anaconda3/lib/python3.11/site-packages (from rich->keras>=3.2.0->tensorflow) (2.15.1)\n",
      "Requirement already satisfied: mdurl~=0.1 in /Users/algotsjoholm/anaconda3/lib/python3.11/site-packages (from markdown-it-py>=2.2.0->rich->keras>=3.2.0->tensorflow) (0.1.0)\n",
      "zsh:1: no matches found: tensorflow[and-cuda]\n",
      "Requirement already satisfied: keras-tuner in /Users/algotsjoholm/anaconda3/lib/python3.11/site-packages (1.4.7)\n",
      "Requirement already satisfied: keras in /Users/algotsjoholm/anaconda3/lib/python3.11/site-packages (from keras-tuner) (3.6.0)\n",
      "Requirement already satisfied: packaging in /Users/algotsjoholm/anaconda3/lib/python3.11/site-packages (from keras-tuner) (23.0)\n",
      "Requirement already satisfied: requests in /Users/algotsjoholm/anaconda3/lib/python3.11/site-packages (from keras-tuner) (2.31.0)\n",
      "Requirement already satisfied: kt-legacy in /Users/algotsjoholm/anaconda3/lib/python3.11/site-packages (from keras-tuner) (1.0.5)\n",
      "Requirement already satisfied: absl-py in /Users/algotsjoholm/anaconda3/lib/python3.11/site-packages (from keras->keras-tuner) (2.1.0)\n",
      "Requirement already satisfied: numpy in /Users/algotsjoholm/anaconda3/lib/python3.11/site-packages (from keras->keras-tuner) (1.24.3)\n",
      "Requirement already satisfied: rich in /Users/algotsjoholm/anaconda3/lib/python3.11/site-packages (from keras->keras-tuner) (13.9.2)\n",
      "Requirement already satisfied: namex in /Users/algotsjoholm/anaconda3/lib/python3.11/site-packages (from keras->keras-tuner) (0.0.8)\n",
      "Requirement already satisfied: h5py in /Users/algotsjoholm/anaconda3/lib/python3.11/site-packages (from keras->keras-tuner) (3.12.1)\n",
      "Requirement already satisfied: optree in /Users/algotsjoholm/anaconda3/lib/python3.11/site-packages (from keras->keras-tuner) (0.13.0)\n",
      "Requirement already satisfied: ml-dtypes in /Users/algotsjoholm/anaconda3/lib/python3.11/site-packages (from keras->keras-tuner) (0.4.1)\n",
      "Requirement already satisfied: charset-normalizer<4,>=2 in /Users/algotsjoholm/anaconda3/lib/python3.11/site-packages (from requests->keras-tuner) (2.0.4)\n",
      "Requirement already satisfied: idna<4,>=2.5 in /Users/algotsjoholm/anaconda3/lib/python3.11/site-packages (from requests->keras-tuner) (3.4)\n",
      "Requirement already satisfied: urllib3<3,>=1.21.1 in /Users/algotsjoholm/anaconda3/lib/python3.11/site-packages (from requests->keras-tuner) (1.26.16)\n",
      "Requirement already satisfied: certifi>=2017.4.17 in /Users/algotsjoholm/anaconda3/lib/python3.11/site-packages (from requests->keras-tuner) (2023.7.22)\n",
      "Requirement already satisfied: typing-extensions>=4.5.0 in /Users/algotsjoholm/anaconda3/lib/python3.11/site-packages (from optree->keras->keras-tuner) (4.7.1)\n",
      "Requirement already satisfied: markdown-it-py>=2.2.0 in /Users/algotsjoholm/anaconda3/lib/python3.11/site-packages (from rich->keras->keras-tuner) (2.2.0)\n",
      "Requirement already satisfied: pygments<3.0.0,>=2.13.0 in /Users/algotsjoholm/anaconda3/lib/python3.11/site-packages (from rich->keras->keras-tuner) (2.15.1)\n",
      "Requirement already satisfied: mdurl~=0.1 in /Users/algotsjoholm/anaconda3/lib/python3.11/site-packages (from markdown-it-py>=2.2.0->rich->keras->keras-tuner) (0.1.0)\n"
     ]
    }
   ],
   "source": [
    "!pip install tensorflow\n",
    "!pip install tensorflow[and-cuda]\n",
    "!pip install keras-tuner --upgrade\n",
    "import keras_tuner as kt"
   ]
  },
  {
   "cell_type": "code",
   "execution_count": 4,
   "metadata": {
    "id": "Gjzkx_mnCRpb"
   },
   "outputs": [],
   "source": [
    "#project_path = '/content/gdrive/MyDrive/Samhällsbyggnadsprogrammet/AH2179/Project/' # set your own project path\n",
    "#df=pd.read_csv(project_path+'preprocessingV4.csv',sep=';') #Jennifers path\n",
    "#project_path = '/content/gdrive/MyDrive/Project Applied AI/Data/' #Linneas path\n",
    "train_df=pd.read_csv('/Users/algotsjoholm/Downloads/preprocessingV5.csv',sep=';')\n",
    "train_df = train_df.dropna()"
   ]
  },
  {
   "cell_type": "code",
   "execution_count": 5,
   "metadata": {
    "colab": {
     "base_uri": "https://localhost:8080/",
     "height": 320
    },
    "id": "4VLfhps6iiZ7",
    "outputId": "99d3f145-07c9-4583-a7a1-b77aab517728"
   },
   "outputs": [],
   "source": [
    "eval_df=pd.read_csv('/Users/algotsjoholm/Downloads/evalpreproV3.csv',sep=';') #change\n",
    "eval_df = eval_df.dropna()\n",
    "eval_df.describe()\n",
    "eval_df = eval_df[eval_df['PORTAL'] == 'E4S 58,140']"
   ]
  },
  {
   "cell_type": "code",
   "execution_count": 6,
   "metadata": {
    "colab": {
     "base_uri": "https://localhost:8080/",
     "height": 617
    },
    "id": "Ln9y5STNFD6d",
    "outputId": "a42cacbd-2408-4eb2-b5e2-9202258eaadd"
   },
   "outputs": [
    {
     "data": {
      "text/html": [
       "<div>\n",
       "<style scoped>\n",
       "    .dataframe tbody tr th:only-of-type {\n",
       "        vertical-align: middle;\n",
       "    }\n",
       "\n",
       "    .dataframe tbody tr th {\n",
       "        vertical-align: top;\n",
       "    }\n",
       "\n",
       "    .dataframe thead th {\n",
       "        text-align: right;\n",
       "    }\n",
       "</style>\n",
       "<table border=\"1\" class=\"dataframe\">\n",
       "  <thead>\n",
       "    <tr style=\"text-align: right;\">\n",
       "      <th></th>\n",
       "      <th>PORTAL</th>\n",
       "      <th>Date</th>\n",
       "      <th>Interval_1</th>\n",
       "      <th>FLOW_SUM</th>\n",
       "      <th>SPEED_WEIGHTED_AVG</th>\n",
       "      <th>FLOW_NEXT_15_SUM</th>\n",
       "      <th>FLOW_PREV_5_SUM</th>\n",
       "      <th>FLOW_PREV_15_SUM</th>\n",
       "      <th>FLOW_PREV_60_SUM</th>\n",
       "      <th>SPEED_NEXT_15_AVG</th>\n",
       "      <th>SPEED_PREV_5_AVG</th>\n",
       "      <th>SPEED_PREV_15_AVG</th>\n",
       "      <th>SPEED_PREV_60_AVG</th>\n",
       "      <th>IS_WEEKDAY</th>\n",
       "      <th>Interval_30</th>\n",
       "    </tr>\n",
       "  </thead>\n",
       "  <tbody>\n",
       "    <tr>\n",
       "      <th>59</th>\n",
       "      <td>E4S 55,620</td>\n",
       "      <td>2021-06-01</td>\n",
       "      <td>299</td>\n",
       "      <td>46.0</td>\n",
       "      <td>21.201522</td>\n",
       "      <td>809.0</td>\n",
       "      <td>271.0</td>\n",
       "      <td>817.0</td>\n",
       "      <td>3031.0</td>\n",
       "      <td>20.327355</td>\n",
       "      <td>20.489483</td>\n",
       "      <td>20.748605</td>\n",
       "      <td>20.927258</td>\n",
       "      <td>1</td>\n",
       "      <td>9</td>\n",
       "    </tr>\n",
       "    <tr>\n",
       "      <th>60</th>\n",
       "      <td>E4S 55,620</td>\n",
       "      <td>2021-06-01</td>\n",
       "      <td>300</td>\n",
       "      <td>52.0</td>\n",
       "      <td>20.211538</td>\n",
       "      <td>799.0</td>\n",
       "      <td>260.0</td>\n",
       "      <td>822.0</td>\n",
       "      <td>3054.0</td>\n",
       "      <td>20.400551</td>\n",
       "      <td>20.472538</td>\n",
       "      <td>20.694453</td>\n",
       "      <td>20.907895</td>\n",
       "      <td>1</td>\n",
       "      <td>10</td>\n",
       "    </tr>\n",
       "    <tr>\n",
       "      <th>61</th>\n",
       "      <td>E4S 55,620</td>\n",
       "      <td>2021-06-01</td>\n",
       "      <td>301</td>\n",
       "      <td>43.0</td>\n",
       "      <td>19.920930</td>\n",
       "      <td>803.0</td>\n",
       "      <td>256.0</td>\n",
       "      <td>814.0</td>\n",
       "      <td>3071.0</td>\n",
       "      <td>20.416276</td>\n",
       "      <td>20.279102</td>\n",
       "      <td>20.584840</td>\n",
       "      <td>20.885396</td>\n",
       "      <td>1</td>\n",
       "      <td>10</td>\n",
       "    </tr>\n",
       "    <tr>\n",
       "      <th>62</th>\n",
       "      <td>E4S 55,620</td>\n",
       "      <td>2021-06-01</td>\n",
       "      <td>302</td>\n",
       "      <td>51.0</td>\n",
       "      <td>19.504314</td>\n",
       "      <td>823.0</td>\n",
       "      <td>254.0</td>\n",
       "      <td>807.0</td>\n",
       "      <td>3084.0</td>\n",
       "      <td>20.347728</td>\n",
       "      <td>20.111063</td>\n",
       "      <td>20.494610</td>\n",
       "      <td>20.854199</td>\n",
       "      <td>1</td>\n",
       "      <td>10</td>\n",
       "    </tr>\n",
       "    <tr>\n",
       "      <th>63</th>\n",
       "      <td>E4S 55,620</td>\n",
       "      <td>2021-06-01</td>\n",
       "      <td>303</td>\n",
       "      <td>51.0</td>\n",
       "      <td>20.606471</td>\n",
       "      <td>825.0</td>\n",
       "      <td>243.0</td>\n",
       "      <td>783.0</td>\n",
       "      <td>3101.0</td>\n",
       "      <td>20.304024</td>\n",
       "      <td>20.281975</td>\n",
       "      <td>20.542771</td>\n",
       "      <td>20.830094</td>\n",
       "      <td>1</td>\n",
       "      <td>10</td>\n",
       "    </tr>\n",
       "    <tr>\n",
       "      <th>...</th>\n",
       "      <td>...</td>\n",
       "      <td>...</td>\n",
       "      <td>...</td>\n",
       "      <td>...</td>\n",
       "      <td>...</td>\n",
       "      <td>...</td>\n",
       "      <td>...</td>\n",
       "      <td>...</td>\n",
       "      <td>...</td>\n",
       "      <td>...</td>\n",
       "      <td>...</td>\n",
       "      <td>...</td>\n",
       "      <td>...</td>\n",
       "      <td>...</td>\n",
       "      <td>...</td>\n",
       "    </tr>\n",
       "    <tr>\n",
       "      <th>604005</th>\n",
       "      <td>E4S 58,140</td>\n",
       "      <td>2021-12-31</td>\n",
       "      <td>580</td>\n",
       "      <td>18.0</td>\n",
       "      <td>21.883889</td>\n",
       "      <td>272.0</td>\n",
       "      <td>93.0</td>\n",
       "      <td>240.0</td>\n",
       "      <td>827.0</td>\n",
       "      <td>21.605846</td>\n",
       "      <td>21.622043</td>\n",
       "      <td>21.793375</td>\n",
       "      <td>21.557267</td>\n",
       "      <td>0</td>\n",
       "      <td>19</td>\n",
       "    </tr>\n",
       "    <tr>\n",
       "      <th>604006</th>\n",
       "      <td>E4S 58,140</td>\n",
       "      <td>2021-12-31</td>\n",
       "      <td>581</td>\n",
       "      <td>11.0</td>\n",
       "      <td>21.212727</td>\n",
       "      <td>280.0</td>\n",
       "      <td>77.0</td>\n",
       "      <td>240.0</td>\n",
       "      <td>822.0</td>\n",
       "      <td>21.614643</td>\n",
       "      <td>21.765195</td>\n",
       "      <td>21.823500</td>\n",
       "      <td>21.566363</td>\n",
       "      <td>0</td>\n",
       "      <td>19</td>\n",
       "    </tr>\n",
       "    <tr>\n",
       "      <th>604007</th>\n",
       "      <td>E4S 58,140</td>\n",
       "      <td>2021-12-31</td>\n",
       "      <td>582</td>\n",
       "      <td>15.0</td>\n",
       "      <td>21.908000</td>\n",
       "      <td>293.0</td>\n",
       "      <td>69.0</td>\n",
       "      <td>247.0</td>\n",
       "      <td>823.0</td>\n",
       "      <td>21.522355</td>\n",
       "      <td>21.808551</td>\n",
       "      <td>21.851660</td>\n",
       "      <td>21.582333</td>\n",
       "      <td>0</td>\n",
       "      <td>19</td>\n",
       "    </tr>\n",
       "    <tr>\n",
       "      <th>604008</th>\n",
       "      <td>E4S 58,140</td>\n",
       "      <td>2021-12-31</td>\n",
       "      <td>583</td>\n",
       "      <td>16.0</td>\n",
       "      <td>20.883125</td>\n",
       "      <td>300.0</td>\n",
       "      <td>71.0</td>\n",
       "      <td>253.0</td>\n",
       "      <td>826.0</td>\n",
       "      <td>21.543433</td>\n",
       "      <td>21.670704</td>\n",
       "      <td>21.781344</td>\n",
       "      <td>21.582276</td>\n",
       "      <td>0</td>\n",
       "      <td>19</td>\n",
       "    </tr>\n",
       "    <tr>\n",
       "      <th>604009</th>\n",
       "      <td>E4S 58,140</td>\n",
       "      <td>2021-12-31</td>\n",
       "      <td>584</td>\n",
       "      <td>13.0</td>\n",
       "      <td>21.006923</td>\n",
       "      <td>306.0</td>\n",
       "      <td>73.0</td>\n",
       "      <td>247.0</td>\n",
       "      <td>827.0</td>\n",
       "      <td>21.563007</td>\n",
       "      <td>21.412192</td>\n",
       "      <td>21.684332</td>\n",
       "      <td>21.573035</td>\n",
       "      <td>0</td>\n",
       "      <td>19</td>\n",
       "    </tr>\n",
       "  </tbody>\n",
       "</table>\n",
       "<p>476529 rows × 15 columns</p>\n",
       "</div>"
      ],
      "text/plain": [
       "            PORTAL        Date  Interval_1  FLOW_SUM  SPEED_WEIGHTED_AVG  \\\n",
       "59      E4S 55,620  2021-06-01         299      46.0           21.201522   \n",
       "60      E4S 55,620  2021-06-01         300      52.0           20.211538   \n",
       "61      E4S 55,620  2021-06-01         301      43.0           19.920930   \n",
       "62      E4S 55,620  2021-06-01         302      51.0           19.504314   \n",
       "63      E4S 55,620  2021-06-01         303      51.0           20.606471   \n",
       "...            ...         ...         ...       ...                 ...   \n",
       "604005  E4S 58,140  2021-12-31         580      18.0           21.883889   \n",
       "604006  E4S 58,140  2021-12-31         581      11.0           21.212727   \n",
       "604007  E4S 58,140  2021-12-31         582      15.0           21.908000   \n",
       "604008  E4S 58,140  2021-12-31         583      16.0           20.883125   \n",
       "604009  E4S 58,140  2021-12-31         584      13.0           21.006923   \n",
       "\n",
       "        FLOW_NEXT_15_SUM  FLOW_PREV_5_SUM  FLOW_PREV_15_SUM  FLOW_PREV_60_SUM  \\\n",
       "59                 809.0            271.0             817.0            3031.0   \n",
       "60                 799.0            260.0             822.0            3054.0   \n",
       "61                 803.0            256.0             814.0            3071.0   \n",
       "62                 823.0            254.0             807.0            3084.0   \n",
       "63                 825.0            243.0             783.0            3101.0   \n",
       "...                  ...              ...               ...               ...   \n",
       "604005             272.0             93.0             240.0             827.0   \n",
       "604006             280.0             77.0             240.0             822.0   \n",
       "604007             293.0             69.0             247.0             823.0   \n",
       "604008             300.0             71.0             253.0             826.0   \n",
       "604009             306.0             73.0             247.0             827.0   \n",
       "\n",
       "        SPEED_NEXT_15_AVG  SPEED_PREV_5_AVG  SPEED_PREV_15_AVG  \\\n",
       "59              20.327355         20.489483          20.748605   \n",
       "60              20.400551         20.472538          20.694453   \n",
       "61              20.416276         20.279102          20.584840   \n",
       "62              20.347728         20.111063          20.494610   \n",
       "63              20.304024         20.281975          20.542771   \n",
       "...                   ...               ...                ...   \n",
       "604005          21.605846         21.622043          21.793375   \n",
       "604006          21.614643         21.765195          21.823500   \n",
       "604007          21.522355         21.808551          21.851660   \n",
       "604008          21.543433         21.670704          21.781344   \n",
       "604009          21.563007         21.412192          21.684332   \n",
       "\n",
       "        SPEED_PREV_60_AVG  IS_WEEKDAY  Interval_30  \n",
       "59              20.927258           1            9  \n",
       "60              20.907895           1           10  \n",
       "61              20.885396           1           10  \n",
       "62              20.854199           1           10  \n",
       "63              20.830094           1           10  \n",
       "...                   ...         ...          ...  \n",
       "604005          21.557267           0           19  \n",
       "604006          21.566363           0           19  \n",
       "604007          21.582333           0           19  \n",
       "604008          21.582276           0           19  \n",
       "604009          21.573035           0           19  \n",
       "\n",
       "[476529 rows x 15 columns]"
      ]
     },
     "execution_count": 6,
     "metadata": {},
     "output_type": "execute_result"
    }
   ],
   "source": [
    "train_df\n",
    "#train_df = train_df[train_df['PORTAL'] == 'E4S 58,140']\n",
    "#train_df  = train_df[(train_df['Interval_1'] > 450) & (train_df['Interval_1'] <=510)]"
   ]
  },
  {
   "cell_type": "code",
   "execution_count": 7,
   "metadata": {
    "colab": {
     "base_uri": "https://localhost:8080/",
     "height": 617
    },
    "id": "C7ICXTebCRkj",
    "outputId": "c1578157-8b4c-4c1f-d84e-b6022db0fb78"
   },
   "outputs": [],
   "source": [
    "peak_eval_df=pd.read_csv('/Users/algotsjoholm/Downloads/peakevalpreproV2.csv',sep=';') #change\n",
    "peak_eval_df = peak_eval_df.dropna()\n",
    "peak_eval_df\n",
    "peak_eval_df = peak_eval_df[peak_eval_df['PORTAL'] == 'E4S 58,140']"
   ]
  },
  {
   "cell_type": "markdown",
   "metadata": {},
   "source": [
    "# Model Creation"
   ]
  },
  {
   "cell_type": "markdown",
   "metadata": {},
   "source": [
    "## Features and Normalization"
   ]
  },
  {
   "cell_type": "code",
   "execution_count": 8,
   "metadata": {
    "colab": {
     "base_uri": "https://localhost:8080/"
    },
    "id": "qs2_rxt4CRnR",
    "outputId": "f81f2f49-1aee-4ea1-831b-41f6f327650b"
   },
   "outputs": [],
   "source": [
    "features = [\n",
    "    'FLOW_NEXT_15_SUM',\n",
    "    'SPEED_NEXT_15_AVG',\n",
    "    'FLOW_SUM',\n",
    "    'SPEED_WEIGHTED_AVG',\n",
    "    'FLOW_PREV_5_SUM',\n",
    "    'FLOW_PREV_15_SUM',\n",
    "    'FLOW_PREV_60_SUM',\n",
    "    'SPEED_PREV_5_AVG',\n",
    "    'SPEED_PREV_15_AVG',\n",
    "    'SPEED_PREV_60_AVG',\n",
    "    'IS_WEEKDAY',\n",
    "    'Interval_30'\n",
    "]\n",
    "\n",
    "train_df = train_df[features]\n",
    "#train_df = train_df.iloc[:30000]\n",
    "\n",
    "x = train_df.drop(['FLOW_NEXT_15_SUM', 'SPEED_NEXT_15_AVG'], axis=1)\n",
    "\n",
    "#y = train_df[['FLOW_NEXT_15_SUM', 'SPEED_NEXT_15_AVG']]\n",
    "y = train_df['FLOW_NEXT_15_SUM']\n",
    "\n",
    "X_train, X_test, y_train, y_test = train_test_split(x, y, test_size=0.2, random_state=42)\n",
    "\n",
    "scaler_x = MinMaxScaler()\n",
    "X_train = scaler_x.fit_transform(X_train)\n",
    "X_test = scaler_x.transform(X_test)\n",
    "\n",
    "\n",
    "scaler_y = StandardScaler()\n",
    "#y_train = scaler_y.fit_transform(y_train)\n",
    "#y_test = scaler_y.transform(y_test)"
   ]
  },
  {
   "cell_type": "markdown",
   "metadata": {},
   "source": [
    "## Load Model"
   ]
  },
  {
   "cell_type": "code",
   "execution_count": 9,
   "metadata": {},
   "outputs": [
    {
     "data": {
      "text/html": [
       "<pre style=\"white-space:pre;overflow-x:auto;line-height:normal;font-family:Menlo,'DejaVu Sans Mono',consolas,'Courier New',monospace\"><span style=\"font-weight: bold\">Model: \"sequential\"</span>\n",
       "</pre>\n"
      ],
      "text/plain": [
       "\u001b[1mModel: \"sequential\"\u001b[0m\n"
      ]
     },
     "metadata": {},
     "output_type": "display_data"
    },
    {
     "data": {
      "text/html": [
       "<pre style=\"white-space:pre;overflow-x:auto;line-height:normal;font-family:Menlo,'DejaVu Sans Mono',consolas,'Courier New',monospace\">┏━━━━━━━━━━━━━━━━━━━━━━━━━━━━━━━━━┳━━━━━━━━━━━━━━━━━━━━━━━━┳━━━━━━━━━━━━━━━┓\n",
       "┃<span style=\"font-weight: bold\"> Layer (type)                    </span>┃<span style=\"font-weight: bold\"> Output Shape           </span>┃<span style=\"font-weight: bold\">       Param # </span>┃\n",
       "┡━━━━━━━━━━━━━━━━━━━━━━━━━━━━━━━━━╇━━━━━━━━━━━━━━━━━━━━━━━━╇━━━━━━━━━━━━━━━┩\n",
       "│ dense (<span style=\"color: #0087ff; text-decoration-color: #0087ff\">Dense</span>)                   │ (<span style=\"color: #00d7ff; text-decoration-color: #00d7ff\">None</span>, <span style=\"color: #00af00; text-decoration-color: #00af00\">64</span>)             │           <span style=\"color: #00af00; text-decoration-color: #00af00\">704</span> │\n",
       "├─────────────────────────────────┼────────────────────────┼───────────────┤\n",
       "│ dense_1 (<span style=\"color: #0087ff; text-decoration-color: #0087ff\">Dense</span>)                 │ (<span style=\"color: #00d7ff; text-decoration-color: #00d7ff\">None</span>, <span style=\"color: #00af00; text-decoration-color: #00af00\">256</span>)            │        <span style=\"color: #00af00; text-decoration-color: #00af00\">16,640</span> │\n",
       "├─────────────────────────────────┼────────────────────────┼───────────────┤\n",
       "│ dense_2 (<span style=\"color: #0087ff; text-decoration-color: #0087ff\">Dense</span>)                 │ (<span style=\"color: #00d7ff; text-decoration-color: #00d7ff\">None</span>, <span style=\"color: #00af00; text-decoration-color: #00af00\">128</span>)            │        <span style=\"color: #00af00; text-decoration-color: #00af00\">32,896</span> │\n",
       "├─────────────────────────────────┼────────────────────────┼───────────────┤\n",
       "│ dense_3 (<span style=\"color: #0087ff; text-decoration-color: #0087ff\">Dense</span>)                 │ (<span style=\"color: #00d7ff; text-decoration-color: #00d7ff\">None</span>, <span style=\"color: #00af00; text-decoration-color: #00af00\">1</span>)              │           <span style=\"color: #00af00; text-decoration-color: #00af00\">129</span> │\n",
       "└─────────────────────────────────┴────────────────────────┴───────────────┘\n",
       "</pre>\n"
      ],
      "text/plain": [
       "┏━━━━━━━━━━━━━━━━━━━━━━━━━━━━━━━━━┳━━━━━━━━━━━━━━━━━━━━━━━━┳━━━━━━━━━━━━━━━┓\n",
       "┃\u001b[1m \u001b[0m\u001b[1mLayer (type)                   \u001b[0m\u001b[1m \u001b[0m┃\u001b[1m \u001b[0m\u001b[1mOutput Shape          \u001b[0m\u001b[1m \u001b[0m┃\u001b[1m \u001b[0m\u001b[1m      Param #\u001b[0m\u001b[1m \u001b[0m┃\n",
       "┡━━━━━━━━━━━━━━━━━━━━━━━━━━━━━━━━━╇━━━━━━━━━━━━━━━━━━━━━━━━╇━━━━━━━━━━━━━━━┩\n",
       "│ dense (\u001b[38;5;33mDense\u001b[0m)                   │ (\u001b[38;5;45mNone\u001b[0m, \u001b[38;5;34m64\u001b[0m)             │           \u001b[38;5;34m704\u001b[0m │\n",
       "├─────────────────────────────────┼────────────────────────┼───────────────┤\n",
       "│ dense_1 (\u001b[38;5;33mDense\u001b[0m)                 │ (\u001b[38;5;45mNone\u001b[0m, \u001b[38;5;34m256\u001b[0m)            │        \u001b[38;5;34m16,640\u001b[0m │\n",
       "├─────────────────────────────────┼────────────────────────┼───────────────┤\n",
       "│ dense_2 (\u001b[38;5;33mDense\u001b[0m)                 │ (\u001b[38;5;45mNone\u001b[0m, \u001b[38;5;34m128\u001b[0m)            │        \u001b[38;5;34m32,896\u001b[0m │\n",
       "├─────────────────────────────────┼────────────────────────┼───────────────┤\n",
       "│ dense_3 (\u001b[38;5;33mDense\u001b[0m)                 │ (\u001b[38;5;45mNone\u001b[0m, \u001b[38;5;34m1\u001b[0m)              │           \u001b[38;5;34m129\u001b[0m │\n",
       "└─────────────────────────────────┴────────────────────────┴───────────────┘\n"
      ]
     },
     "metadata": {},
     "output_type": "display_data"
    },
    {
     "data": {
      "text/html": [
       "<pre style=\"white-space:pre;overflow-x:auto;line-height:normal;font-family:Menlo,'DejaVu Sans Mono',consolas,'Courier New',monospace\"><span style=\"font-weight: bold\"> Total params: </span><span style=\"color: #00af00; text-decoration-color: #00af00\">151,109</span> (590.27 KB)\n",
       "</pre>\n"
      ],
      "text/plain": [
       "\u001b[1m Total params: \u001b[0m\u001b[38;5;34m151,109\u001b[0m (590.27 KB)\n"
      ]
     },
     "metadata": {},
     "output_type": "display_data"
    },
    {
     "data": {
      "text/html": [
       "<pre style=\"white-space:pre;overflow-x:auto;line-height:normal;font-family:Menlo,'DejaVu Sans Mono',consolas,'Courier New',monospace\"><span style=\"font-weight: bold\"> Trainable params: </span><span style=\"color: #00af00; text-decoration-color: #00af00\">50,369</span> (196.75 KB)\n",
       "</pre>\n"
      ],
      "text/plain": [
       "\u001b[1m Trainable params: \u001b[0m\u001b[38;5;34m50,369\u001b[0m (196.75 KB)\n"
      ]
     },
     "metadata": {},
     "output_type": "display_data"
    },
    {
     "data": {
      "text/html": [
       "<pre style=\"white-space:pre;overflow-x:auto;line-height:normal;font-family:Menlo,'DejaVu Sans Mono',consolas,'Courier New',monospace\"><span style=\"font-weight: bold\"> Non-trainable params: </span><span style=\"color: #00af00; text-decoration-color: #00af00\">0</span> (0.00 B)\n",
       "</pre>\n"
      ],
      "text/plain": [
       "\u001b[1m Non-trainable params: \u001b[0m\u001b[38;5;34m0\u001b[0m (0.00 B)\n"
      ]
     },
     "metadata": {},
     "output_type": "display_data"
    },
    {
     "data": {
      "text/html": [
       "<pre style=\"white-space:pre;overflow-x:auto;line-height:normal;font-family:Menlo,'DejaVu Sans Mono',consolas,'Courier New',monospace\"><span style=\"font-weight: bold\"> Optimizer params: </span><span style=\"color: #00af00; text-decoration-color: #00af00\">100,740</span> (393.52 KB)\n",
       "</pre>\n"
      ],
      "text/plain": [
       "\u001b[1m Optimizer params: \u001b[0m\u001b[38;5;34m100,740\u001b[0m (393.52 KB)\n"
      ]
     },
     "metadata": {},
     "output_type": "display_data"
    }
   ],
   "source": [
    "# Load the saved model\n",
    "best_model = tf.keras.models.load_model('/Users/algotsjoholm/Downloads/best_univar_NN_flow(2).keras')\n",
    "#best_model = tf.keras.models.load_model('/Users/algotsjoholm/Downloads/best_univar_NN_flow_trainingPeak(1).keras')\n",
    "\n",
    "best_model.summary()"
   ]
  },
  {
   "cell_type": "markdown",
   "metadata": {},
   "source": [
    "# Evaluation Results"
   ]
  },
  {
   "cell_type": "markdown",
   "metadata": {},
   "source": [
    "## Evaluation on Test Split"
   ]
  },
  {
   "cell_type": "code",
   "execution_count": 10,
   "metadata": {
    "id": "TJuuO_cOSKKk"
   },
   "outputs": [
    {
     "name": "stdout",
     "output_type": "stream",
     "text": [
      "\u001b[1m2979/2979\u001b[0m \u001b[32m━━━━━━━━━━━━━━━━━━━━\u001b[0m\u001b[37m\u001b[0m \u001b[1m1s\u001b[0m 280us/step\n",
      "--------------------------------------Result from the best model on test data ---------------------------------------------\n",
      "Target 1 - Mean Absolute Error (MAE): 35.803667902898944\n",
      "Target 1 - Mean Squared Error (MSE): 2647.599225352165\n",
      "Target 1 - R-squared (R^2): 0.9671219303766614\n"
     ]
    }
   ],
   "source": [
    "from sklearn.metrics import mean_absolute_error, mean_squared_error, r2_score\n",
    "\n",
    "y_pred = best_model.predict(X_test)\n",
    "\n",
    "#y_pred = scaler_y.inverse_transform(y_pred)\n",
    "#y_test = scaler_y.inverse_transform(y_test)\n",
    "\n",
    "'''mae_1 = mean_absolute_error(y_test[:, 0], y_pred[:, 0])\n",
    "mse_1 = mean_squared_error(y_test[:, 0], y_pred[:, 0])\n",
    "r2_1 = r2_score(y_test[:, 0], y_pred[:, 0])\n",
    "\n",
    "# Calculate metrics for the second target variable (e.g., SPEED_NEXT_15_AVG)\n",
    "mae_2 = mean_absolute_error(y_test[:, 1], y_pred[:, 1])\n",
    "mse_2 = mean_squared_error(y_test[:, 1], y_pred[:, 1])\n",
    "r2_2 = r2_score(y_test[:, 1], y_pred[:, 1])\n",
    "\n",
    "# Optionally, calculate the overall mean of the MAE, MSE, and R^2 across both outputs\n",
    "mae_avg = (mae_1 + mae_2) / 2\n",
    "mse_avg = (mse_1 + mse_2) / 2\n",
    "r2_avg = (r2_1 + r2_2) / 2\n",
    "\n",
    "print('--------------------------------------Result from the best model on test data ---------------------------------------------')\n",
    "print(f\"Target 1 - Mean Absolute Error (MAE): {mae_1}\")\n",
    "print(f\"Target 1 - Mean Squared Error (MSE): {mse_1}\")\n",
    "print(f\"Target 1 - R-squared (R^2): {r2_1}\")\n",
    "print()\n",
    "print(f\"Target 2 - Mean Absolute Error (MAE): {mae_2}\")\n",
    "print(f\"Target 2 - Mean Squared Error (MSE): {mse_2}\")\n",
    "print(f\"Target 2 - R-squared (R^2): {r2_2}\")\n",
    "print()\n",
    "print(f\"Average MAE: {mae_avg}\")\n",
    "print(f\"Average MSE: {mse_avg}\")\n",
    "print(f\"Average R-squared: {r2_avg}\")'''\n",
    "\n",
    "mae_1 = mean_absolute_error(y_test, y_pred)\n",
    "mse_1 = mean_squared_error(y_test, y_pred)\n",
    "r2_1 = r2_score(y_test, y_pred)\n",
    "\n",
    "print('--------------------------------------Result from the best model on test data ---------------------------------------------')\n",
    "print(f\"Target 1 - Mean Absolute Error (MAE): {mae_1}\")\n",
    "print(f\"Target 1 - Mean Squared Error (MSE): {mse_1}\")\n",
    "print(f\"Target 1 - R-squared (R^2): {r2_1}\")\n"
   ]
  },
  {
   "cell_type": "markdown",
   "metadata": {
    "id": "DEffz_iBTp0R"
   },
   "source": [
    "## Evaluation on Full Final Evaluation Dataset"
   ]
  },
  {
   "cell_type": "code",
   "execution_count": 11,
   "metadata": {
    "id": "Chy40x01TpHB"
   },
   "outputs": [
    {
     "name": "stdout",
     "output_type": "stream",
     "text": [
      "\u001b[1m798/798\u001b[0m \u001b[32m━━━━━━━━━━━━━━━━━━━━\u001b[0m\u001b[37m\u001b[0m \u001b[1m0s\u001b[0m 277us/step\n",
      "--------------------------------------Result from the best model on test data ---------------------------------------------\n",
      "Target 1 - Mean Absolute Error (MAE): 38.67102663917416\n",
      "Target 1 - Mean Squared Error (MSE): 3214.7705945749135\n",
      "Target 1 - R-squared (R^2): 0.9680911692339592\n"
     ]
    }
   ],
   "source": [
    "eval_df = eval_df[features]\n",
    "\n",
    "x_eval = eval_df.drop(['FLOW_NEXT_15_SUM', 'SPEED_NEXT_15_AVG'], axis=1)\n",
    "#y_eval = eval_df[['FLOW_NEXT_15_SUM', 'SPEED_NEXT_15_AVG']]\n",
    "y_eval = eval_df['FLOW_NEXT_15_SUM']\n",
    "\n",
    "x_eval = scaler_x.transform(x_eval)\n",
    "\n",
    "y_pred = best_model.predict(x_eval)\n",
    "\n",
    "#y_pred = scaler_y.inverse_transform(y_pred)\n",
    "#y_eval = scaler_y.inverse_transform(y_eval)\n",
    "\n",
    "'''mae_1 = mean_absolute_error(y_eval['FLOW_NEXT_15_SUM'], y_pred[:, 0])\n",
    "mse_1 = mean_squared_error(y_eval['FLOW_NEXT_15_SUM'], y_pred[:, 0])\n",
    "r2_1 = r2_score(y_eval['FLOW_NEXT_15_SUM'], y_pred[:, 0])\n",
    "\n",
    "# Calculate metrics for the second target variable (e.g., SPEED_NEXT_15_AVG)\n",
    "mae_2 = mean_absolute_error(y_eval['SPEED_NEXT_15_AVG'], y_pred[:, 1])\n",
    "mse_2 = mean_squared_error(y_eval['SPEED_NEXT_15_AVG'], y_pred[:, 1])\n",
    "r2_2 = r2_score(y_eval['SPEED_NEXT_15_AVG'], y_pred[:, 1])\n",
    "\n",
    "# Optionally, calculate the overall mean of the MAE, MSE, and R^2 across both outputs\n",
    "mae_avg = (mae_1 + mae_2) / 2\n",
    "mse_avg = (mse_1 + mse_2) / 2\n",
    "r2_avg = (r2_1 + r2_2) / 2\n",
    "\n",
    "print('--------------------------------------Result from the best model on test data ---------------------------------------------')\n",
    "print(f\"Target 1 - Mean Absolute Error (MAE): {mae_1}\")\n",
    "print(f\"Target 1 - Mean Squared Error (MSE): {mse_1}\")\n",
    "print(f\"Target 1 - R-squared (R^2): {r2_1}\")\n",
    "print()\n",
    "print(f\"Target 2 - Mean Absolute Error (MAE): {mae_2}\")\n",
    "print(f\"Target 2 - Mean Squared Error (MSE): {mse_2}\")\n",
    "print(f\"Target 2 - R-squared (R^2): {r2_2}\")\n",
    "print()\n",
    "print(f\"Average MAE: {mae_avg}\")\n",
    "print(f\"Average MSE: {mse_avg}\")\n",
    "print(f\"Average R-squared: {r2_avg}\")'''\n",
    "\n",
    "mae_1 = mean_absolute_error(y_eval, y_pred)\n",
    "mse_1 = mean_squared_error(y_eval, y_pred)\n",
    "r2_1 = r2_score(y_eval, y_pred)\n",
    "\n",
    "print('--------------------------------------Result from the best model on test data ---------------------------------------------')\n",
    "print(f\"Target 1 - Mean Absolute Error (MAE): {mae_1}\")\n",
    "print(f\"Target 1 - Mean Squared Error (MSE): {mse_1}\")\n",
    "print(f\"Target 1 - R-squared (R^2): {r2_1}\")\n"
   ]
  },
  {
   "cell_type": "markdown",
   "metadata": {
    "id": "TYoYzmS-Wv5U"
   },
   "source": [
    "## Evaluation on Peak Final Evaluation Dataset"
   ]
  },
  {
   "cell_type": "code",
   "execution_count": 12,
   "metadata": {
    "id": "rcvJJTxRWvWC"
   },
   "outputs": [
    {
     "name": "stdout",
     "output_type": "stream",
     "text": [
      "\u001b[1m169/169\u001b[0m \u001b[32m━━━━━━━━━━━━━━━━━━━━\u001b[0m\u001b[37m\u001b[0m \u001b[1m0s\u001b[0m 288us/step\n",
      "--------------------------------------Result from the best model on test data ---------------------------------------------\n",
      "Target 1 - Mean Absolute Error (MAE): 40.420124624145984\n",
      "Target 1 - Mean Squared Error (MSE): 4081.215177954277\n",
      "Target 1 - R-squared (R^2): 0.9593853941687859\n"
     ]
    }
   ],
   "source": [
    "eval_df_peak= peak_eval_df[features]\n",
    "\n",
    "x_eval = eval_df_peak.drop(['FLOW_NEXT_15_SUM', 'SPEED_NEXT_15_AVG'], axis=1)\n",
    "#y_eval = eval_df_peak[['FLOW_NEXT_15_SUM', 'SPEED_NEXT_15_AVG']]\n",
    "y_eval = eval_df_peak['FLOW_NEXT_15_SUM']\n",
    "\n",
    "x_eval = scaler_x.transform(x_eval)\n",
    "\n",
    "#y_pred = scaler_y.inverse_transform(y_pred)\n",
    "#y_eval = scaler_y.inverse_transform(y_eval)\n",
    "\n",
    "y_pred = best_model.predict(x_eval)\n",
    "\n",
    "'''mae_1 = mean_absolute_error(y_eval['FLOW_NEXT_15_SUM'], y_pred[:, 0])\n",
    "mse_1 = mean_squared_error(y_eval['FLOW_NEXT_15_SUM'], y_pred[:, 0])\n",
    "r2_1 = r2_score(y_eval['FLOW_NEXT_15_SUM'], y_pred[:, 0])\n",
    "\n",
    "# Calculate metrics for the second target variable (e.g., SPEED_NEXT_15_AVG)\n",
    "mae_2 = mean_absolute_error(y_eval['SPEED_NEXT_15_AVG'], y_pred[:, 1])\n",
    "mse_2 = mean_squared_error(y_eval['SPEED_NEXT_15_AVG'], y_pred[:, 1])\n",
    "r2_2 = r2_score(y_eval['SPEED_NEXT_15_AVG'], y_pred[:, 1])\n",
    "\n",
    "print('--------------------------------------Result from the best model on test data ---------------------------------------------')\n",
    "print(f\"Target 1 - Mean Absolute Error (MAE): {mae_1}\")\n",
    "print(f\"Target 1 - Mean Squared Error (MSE): {mse_1}\")\n",
    "print(f\"Target 1 - R-squared (R^2): {r2_1}\")\n",
    "print()\n",
    "print(f\"Target 2 - Mean Absolute Error (MAE): {mae_2}\")\n",
    "print(f\"Target 2 - Mean Squared Error (MSE): {mse_2}\")\n",
    "print(f\"Target 2 - R-squared (R^2): {r2_2}\")\n",
    "print()\n",
    "print(f\"Average MAE: {mae_avg}\")\n",
    "print(f\"Average MSE: {mse_avg}\")\n",
    "print(f\"Average R-squared: {r2_avg}\")'''\n",
    "\n",
    "mae_1 = mean_absolute_error(y_eval, y_pred)\n",
    "mse_1 = mean_squared_error(y_eval, y_pred)\n",
    "r2_1 = r2_score(y_eval, y_pred)\n",
    "\n",
    "print('--------------------------------------Result from the best model on test data ---------------------------------------------')\n",
    "print(f\"Target 1 - Mean Absolute Error (MAE): {mae_1}\")\n",
    "print(f\"Target 1 - Mean Squared Error (MSE): {mse_1}\")\n",
    "print(f\"Target 1 - R-squared (R^2): {r2_1}\")"
   ]
  },
  {
   "cell_type": "markdown",
   "metadata": {},
   "source": [
    "# Save Model"
   ]
  },
  {
   "cell_type": "code",
   "execution_count": 13,
   "metadata": {
    "id": "Y0xSZK-XUvmB"
   },
   "outputs": [],
   "source": [
    "#best_model.save('best_univar_NN_flow_3FeaturesTraining.keras')"
   ]
  },
  {
   "cell_type": "code",
   "execution_count": null,
   "metadata": {},
   "outputs": [],
   "source": []
  }
 ],
 "metadata": {
  "colab": {
   "provenance": []
  },
  "kernelspec": {
   "display_name": "Python 3 (ipykernel)",
   "language": "python",
   "name": "python3"
  },
  "language_info": {
   "codemirror_mode": {
    "name": "ipython",
    "version": 3
   },
   "file_extension": ".py",
   "mimetype": "text/x-python",
   "name": "python",
   "nbconvert_exporter": "python",
   "pygments_lexer": "ipython3",
   "version": "3.11.4"
  }
 },
 "nbformat": 4,
 "nbformat_minor": 1
}
