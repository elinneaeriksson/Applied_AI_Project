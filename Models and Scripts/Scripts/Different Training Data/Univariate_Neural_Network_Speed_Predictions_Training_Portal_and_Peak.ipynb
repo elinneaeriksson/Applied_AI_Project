{
 "cells": [
  {
   "cell_type": "markdown",
   "metadata": {},
   "source": [
    "# Univariate Neural Network Speed Predictions Training Portal E4S 58.140 and Peak"
   ]
  },
  {
   "cell_type": "markdown",
   "metadata": {},
   "source": [
    "# Imports of Libraries and Datasets"
   ]
  },
  {
   "cell_type": "code",
   "execution_count": 1,
   "metadata": {
    "id": "u0PXjnRBCRuP"
   },
   "outputs": [],
   "source": [
    "import pandas as pd\n",
    "from sklearn.model_selection import train_test_split\n",
    "%matplotlib inline\n",
    "import matplotlib.pyplot as plt\n",
    "import seaborn as sns\n",
    "from tensorflow.keras.models import Sequential\n",
    "from tensorflow.keras.layers import Dense\n",
    "from tensorflow.keras.layers import Dropout\n",
    "from tensorflow.keras.callbacks import EarlyStopping, ReduceLROnPlateau, ModelCheckpoint\n",
    "from keras.models import load_model\n",
    "from sklearn.linear_model import LinearRegression\n",
    "from sklearn.metrics import mean_absolute_error, mean_squared_error, r2_score\n",
    "from sklearn.preprocessing import StandardScaler, MinMaxScaler"
   ]
  },
  {
   "cell_type": "code",
   "execution_count": 2,
   "metadata": {
    "id": "OQM6DvSnRXAe"
   },
   "outputs": [],
   "source": [
    "from tensorflow.keras.optimizers import Adam\n",
    "from tensorflow.keras.callbacks import EarlyStopping, ReduceLROnPlateau"
   ]
  },
  {
   "cell_type": "code",
   "execution_count": 3,
   "metadata": {
    "colab": {
     "base_uri": "https://localhost:8080/"
    },
    "id": "RVSYn8SQQX1D",
    "outputId": "182190e2-fc27-4cd2-915e-7909925cf3b7"
   },
   "outputs": [
    {
     "name": "stdout",
     "output_type": "stream",
     "text": [
      "Requirement already satisfied: tensorflow in /Users/algotsjoholm/anaconda3/lib/python3.11/site-packages (2.17.0)\n",
      "Requirement already satisfied: absl-py>=1.0.0 in /Users/algotsjoholm/anaconda3/lib/python3.11/site-packages (from tensorflow) (2.1.0)\n",
      "Requirement already satisfied: astunparse>=1.6.0 in /Users/algotsjoholm/anaconda3/lib/python3.11/site-packages (from tensorflow) (1.6.3)\n",
      "Requirement already satisfied: flatbuffers>=24.3.25 in /Users/algotsjoholm/anaconda3/lib/python3.11/site-packages (from tensorflow) (24.3.25)\n",
      "Requirement already satisfied: gast!=0.5.0,!=0.5.1,!=0.5.2,>=0.2.1 in /Users/algotsjoholm/anaconda3/lib/python3.11/site-packages (from tensorflow) (0.6.0)\n",
      "Requirement already satisfied: google-pasta>=0.1.1 in /Users/algotsjoholm/anaconda3/lib/python3.11/site-packages (from tensorflow) (0.2.0)\n",
      "Requirement already satisfied: h5py>=3.10.0 in /Users/algotsjoholm/anaconda3/lib/python3.11/site-packages (from tensorflow) (3.12.1)\n",
      "Requirement already satisfied: libclang>=13.0.0 in /Users/algotsjoholm/anaconda3/lib/python3.11/site-packages (from tensorflow) (18.1.1)\n",
      "Requirement already satisfied: ml-dtypes<0.5.0,>=0.3.1 in /Users/algotsjoholm/anaconda3/lib/python3.11/site-packages (from tensorflow) (0.4.1)\n",
      "Requirement already satisfied: opt-einsum>=2.3.2 in /Users/algotsjoholm/anaconda3/lib/python3.11/site-packages (from tensorflow) (3.4.0)\n",
      "Requirement already satisfied: packaging in /Users/algotsjoholm/anaconda3/lib/python3.11/site-packages (from tensorflow) (23.0)\n",
      "Requirement already satisfied: protobuf!=4.21.0,!=4.21.1,!=4.21.2,!=4.21.3,!=4.21.4,!=4.21.5,<5.0.0dev,>=3.20.3 in /Users/algotsjoholm/anaconda3/lib/python3.11/site-packages (from tensorflow) (4.25.5)\n",
      "Requirement already satisfied: requests<3,>=2.21.0 in /Users/algotsjoholm/anaconda3/lib/python3.11/site-packages (from tensorflow) (2.31.0)\n",
      "Requirement already satisfied: setuptools in /Users/algotsjoholm/anaconda3/lib/python3.11/site-packages (from tensorflow) (68.0.0)\n",
      "Requirement already satisfied: six>=1.12.0 in /Users/algotsjoholm/anaconda3/lib/python3.11/site-packages (from tensorflow) (1.16.0)\n",
      "Requirement already satisfied: termcolor>=1.1.0 in /Users/algotsjoholm/anaconda3/lib/python3.11/site-packages (from tensorflow) (2.5.0)\n",
      "Requirement already satisfied: typing-extensions>=3.6.6 in /Users/algotsjoholm/anaconda3/lib/python3.11/site-packages (from tensorflow) (4.7.1)\n",
      "Requirement already satisfied: wrapt>=1.11.0 in /Users/algotsjoholm/anaconda3/lib/python3.11/site-packages (from tensorflow) (1.14.1)\n",
      "Requirement already satisfied: grpcio<2.0,>=1.24.3 in /Users/algotsjoholm/anaconda3/lib/python3.11/site-packages (from tensorflow) (1.66.2)\n",
      "Requirement already satisfied: tensorboard<2.18,>=2.17 in /Users/algotsjoholm/anaconda3/lib/python3.11/site-packages (from tensorflow) (2.17.1)\n",
      "Requirement already satisfied: keras>=3.2.0 in /Users/algotsjoholm/anaconda3/lib/python3.11/site-packages (from tensorflow) (3.6.0)\n",
      "Requirement already satisfied: tensorflow-io-gcs-filesystem>=0.23.1 in /Users/algotsjoholm/anaconda3/lib/python3.11/site-packages (from tensorflow) (0.37.1)\n",
      "Requirement already satisfied: numpy<2.0.0,>=1.23.5 in /Users/algotsjoholm/anaconda3/lib/python3.11/site-packages (from tensorflow) (1.24.3)\n",
      "Requirement already satisfied: wheel<1.0,>=0.23.0 in /Users/algotsjoholm/anaconda3/lib/python3.11/site-packages (from astunparse>=1.6.0->tensorflow) (0.38.4)\n",
      "Requirement already satisfied: rich in /Users/algotsjoholm/anaconda3/lib/python3.11/site-packages (from keras>=3.2.0->tensorflow) (13.9.2)\n",
      "Requirement already satisfied: namex in /Users/algotsjoholm/anaconda3/lib/python3.11/site-packages (from keras>=3.2.0->tensorflow) (0.0.8)\n",
      "Requirement already satisfied: optree in /Users/algotsjoholm/anaconda3/lib/python3.11/site-packages (from keras>=3.2.0->tensorflow) (0.13.0)\n",
      "Requirement already satisfied: charset-normalizer<4,>=2 in /Users/algotsjoholm/anaconda3/lib/python3.11/site-packages (from requests<3,>=2.21.0->tensorflow) (2.0.4)\n",
      "Requirement already satisfied: idna<4,>=2.5 in /Users/algotsjoholm/anaconda3/lib/python3.11/site-packages (from requests<3,>=2.21.0->tensorflow) (3.4)\n",
      "Requirement already satisfied: urllib3<3,>=1.21.1 in /Users/algotsjoholm/anaconda3/lib/python3.11/site-packages (from requests<3,>=2.21.0->tensorflow) (1.26.16)\n",
      "Requirement already satisfied: certifi>=2017.4.17 in /Users/algotsjoholm/anaconda3/lib/python3.11/site-packages (from requests<3,>=2.21.0->tensorflow) (2023.7.22)\n",
      "Requirement already satisfied: markdown>=2.6.8 in /Users/algotsjoholm/anaconda3/lib/python3.11/site-packages (from tensorboard<2.18,>=2.17->tensorflow) (3.4.1)\n",
      "Requirement already satisfied: tensorboard-data-server<0.8.0,>=0.7.0 in /Users/algotsjoholm/anaconda3/lib/python3.11/site-packages (from tensorboard<2.18,>=2.17->tensorflow) (0.7.2)\n",
      "Requirement already satisfied: werkzeug>=1.0.1 in /Users/algotsjoholm/anaconda3/lib/python3.11/site-packages (from tensorboard<2.18,>=2.17->tensorflow) (2.2.3)\n",
      "Requirement already satisfied: MarkupSafe>=2.1.1 in /Users/algotsjoholm/anaconda3/lib/python3.11/site-packages (from werkzeug>=1.0.1->tensorboard<2.18,>=2.17->tensorflow) (2.1.1)\n",
      "Requirement already satisfied: markdown-it-py>=2.2.0 in /Users/algotsjoholm/anaconda3/lib/python3.11/site-packages (from rich->keras>=3.2.0->tensorflow) (2.2.0)\n",
      "Requirement already satisfied: pygments<3.0.0,>=2.13.0 in /Users/algotsjoholm/anaconda3/lib/python3.11/site-packages (from rich->keras>=3.2.0->tensorflow) (2.15.1)\n",
      "Requirement already satisfied: mdurl~=0.1 in /Users/algotsjoholm/anaconda3/lib/python3.11/site-packages (from markdown-it-py>=2.2.0->rich->keras>=3.2.0->tensorflow) (0.1.0)\n",
      "zsh:1: no matches found: tensorflow[and-cuda]\n",
      "Requirement already satisfied: keras-tuner in /Users/algotsjoholm/anaconda3/lib/python3.11/site-packages (1.4.7)\n",
      "Requirement already satisfied: keras in /Users/algotsjoholm/anaconda3/lib/python3.11/site-packages (from keras-tuner) (3.6.0)\n",
      "Requirement already satisfied: packaging in /Users/algotsjoholm/anaconda3/lib/python3.11/site-packages (from keras-tuner) (23.0)\n",
      "Requirement already satisfied: requests in /Users/algotsjoholm/anaconda3/lib/python3.11/site-packages (from keras-tuner) (2.31.0)\n",
      "Requirement already satisfied: kt-legacy in /Users/algotsjoholm/anaconda3/lib/python3.11/site-packages (from keras-tuner) (1.0.5)\n",
      "Requirement already satisfied: absl-py in /Users/algotsjoholm/anaconda3/lib/python3.11/site-packages (from keras->keras-tuner) (2.1.0)\n",
      "Requirement already satisfied: numpy in /Users/algotsjoholm/anaconda3/lib/python3.11/site-packages (from keras->keras-tuner) (1.24.3)\n",
      "Requirement already satisfied: rich in /Users/algotsjoholm/anaconda3/lib/python3.11/site-packages (from keras->keras-tuner) (13.9.2)\n",
      "Requirement already satisfied: namex in /Users/algotsjoholm/anaconda3/lib/python3.11/site-packages (from keras->keras-tuner) (0.0.8)\n",
      "Requirement already satisfied: h5py in /Users/algotsjoholm/anaconda3/lib/python3.11/site-packages (from keras->keras-tuner) (3.12.1)\n",
      "Requirement already satisfied: optree in /Users/algotsjoholm/anaconda3/lib/python3.11/site-packages (from keras->keras-tuner) (0.13.0)\n",
      "Requirement already satisfied: ml-dtypes in /Users/algotsjoholm/anaconda3/lib/python3.11/site-packages (from keras->keras-tuner) (0.4.1)\n",
      "Requirement already satisfied: charset-normalizer<4,>=2 in /Users/algotsjoholm/anaconda3/lib/python3.11/site-packages (from requests->keras-tuner) (2.0.4)\n",
      "Requirement already satisfied: idna<4,>=2.5 in /Users/algotsjoholm/anaconda3/lib/python3.11/site-packages (from requests->keras-tuner) (3.4)\n",
      "Requirement already satisfied: urllib3<3,>=1.21.1 in /Users/algotsjoholm/anaconda3/lib/python3.11/site-packages (from requests->keras-tuner) (1.26.16)\n",
      "Requirement already satisfied: certifi>=2017.4.17 in /Users/algotsjoholm/anaconda3/lib/python3.11/site-packages (from requests->keras-tuner) (2023.7.22)\n",
      "Requirement already satisfied: typing-extensions>=4.5.0 in /Users/algotsjoholm/anaconda3/lib/python3.11/site-packages (from optree->keras->keras-tuner) (4.7.1)\n",
      "Requirement already satisfied: markdown-it-py>=2.2.0 in /Users/algotsjoholm/anaconda3/lib/python3.11/site-packages (from rich->keras->keras-tuner) (2.2.0)\n",
      "Requirement already satisfied: pygments<3.0.0,>=2.13.0 in /Users/algotsjoholm/anaconda3/lib/python3.11/site-packages (from rich->keras->keras-tuner) (2.15.1)\n"
     ]
    },
    {
     "name": "stdout",
     "output_type": "stream",
     "text": [
      "Requirement already satisfied: mdurl~=0.1 in /Users/algotsjoholm/anaconda3/lib/python3.11/site-packages (from markdown-it-py>=2.2.0->rich->keras->keras-tuner) (0.1.0)\r\n"
     ]
    }
   ],
   "source": [
    "!pip install tensorflow\n",
    "!pip install tensorflow[and-cuda]\n",
    "!pip install keras-tuner --upgrade\n",
    "import keras_tuner as kt"
   ]
  },
  {
   "cell_type": "code",
   "execution_count": 4,
   "metadata": {
    "id": "Gjzkx_mnCRpb"
   },
   "outputs": [],
   "source": [
    "#project_path = '/content/gdrive/MyDrive/Samhällsbyggnadsprogrammet/AH2179/Project/' # set your own project path\n",
    "#df=pd.read_csv(project_path+'preprocessingV4.csv',sep=';') #Jennifers path\n",
    "#project_path = '/content/gdrive/MyDrive/Project Applied AI/Data/' #Linneas path\n",
    "train_df=pd.read_csv('/Users/algotsjoholm/Downloads/preprocessingV5.csv',sep=';')\n",
    "train_df = train_df.dropna()"
   ]
  },
  {
   "cell_type": "code",
   "execution_count": 5,
   "metadata": {
    "colab": {
     "base_uri": "https://localhost:8080/",
     "height": 320
    },
    "id": "4VLfhps6iiZ7",
    "outputId": "99d3f145-07c9-4583-a7a1-b77aab517728"
   },
   "outputs": [],
   "source": [
    "eval_df=pd.read_csv('/Users/algotsjoholm/Downloads/evalpreproV3.csv',sep=';') #change\n",
    "eval_df = eval_df.dropna()\n",
    "eval_df.describe()\n",
    "eval_df = eval_df[eval_df['PORTAL'] == 'E4S 58,140']"
   ]
  },
  {
   "cell_type": "code",
   "execution_count": 6,
   "metadata": {
    "colab": {
     "base_uri": "https://localhost:8080/",
     "height": 617
    },
    "id": "Ln9y5STNFD6d",
    "outputId": "a42cacbd-2408-4eb2-b5e2-9202258eaadd"
   },
   "outputs": [],
   "source": [
    "train_df\n",
    "train_df = train_df[train_df['PORTAL'] == 'E4S 58,140']\n",
    "train_df  = train_df[(train_df['Interval_1'] > 450) & (train_df['Interval_1'] <=510)]"
   ]
  },
  {
   "cell_type": "code",
   "execution_count": 7,
   "metadata": {
    "colab": {
     "base_uri": "https://localhost:8080/",
     "height": 617
    },
    "id": "C7ICXTebCRkj",
    "outputId": "c1578157-8b4c-4c1f-d84e-b6022db0fb78"
   },
   "outputs": [],
   "source": [
    "peak_eval_df=pd.read_csv('/Users/algotsjoholm/Downloads/peakevalpreproV2.csv',sep=';') #change\n",
    "peak_eval_df = peak_eval_df.dropna()\n",
    "peak_eval_df\n",
    "peak_eval_df = peak_eval_df[peak_eval_df['PORTAL'] == 'E4S 58,140']"
   ]
  },
  {
   "cell_type": "markdown",
   "metadata": {},
   "source": [
    "# Model Creation"
   ]
  },
  {
   "cell_type": "markdown",
   "metadata": {},
   "source": [
    "## Features and Normalization"
   ]
  },
  {
   "cell_type": "code",
   "execution_count": 8,
   "metadata": {
    "colab": {
     "base_uri": "https://localhost:8080/"
    },
    "id": "qs2_rxt4CRnR",
    "outputId": "f81f2f49-1aee-4ea1-831b-41f6f327650b"
   },
   "outputs": [],
   "source": [
    "features = [\n",
    "    'FLOW_NEXT_15_SUM',\n",
    "    'SPEED_NEXT_15_AVG',\n",
    "    'FLOW_SUM',\n",
    "    'SPEED_WEIGHTED_AVG',\n",
    "    'FLOW_PREV_5_SUM',\n",
    "    'FLOW_PREV_15_SUM',\n",
    "    'FLOW_PREV_60_SUM',\n",
    "    'SPEED_PREV_5_AVG',\n",
    "    'SPEED_PREV_15_AVG',\n",
    "    'SPEED_PREV_60_AVG',\n",
    "    'IS_WEEKDAY',\n",
    "    'Interval_30'\n",
    "]\n",
    "\n",
    "train_df = train_df[features]\n",
    "#train_df = train_df.iloc[:30000]\n",
    "\n",
    "x = train_df.drop(['FLOW_NEXT_15_SUM', 'SPEED_NEXT_15_AVG'], axis=1)\n",
    "\n",
    "#y = train_df[['FLOW_NEXT_15_SUM', 'SPEED_NEXT_15_AVG']]\n",
    "y = train_df['SPEED_NEXT_15_AVG']\n",
    "\n",
    "X_train, X_test, y_train, y_test = train_test_split(x, y, test_size=0.2, random_state=42)\n",
    "\n",
    "scaler_x = MinMaxScaler()\n",
    "X_train = scaler_x.fit_transform(X_train)\n",
    "X_test = scaler_x.transform(X_test)\n",
    "\n",
    "\n",
    "scaler_y = StandardScaler()\n",
    "#y_train = scaler_y.fit_transform(y_train)\n",
    "#y_test = scaler_y.transform(y_test)"
   ]
  },
  {
   "cell_type": "markdown",
   "metadata": {},
   "source": [
    "## Find Best Hyperparameters"
   ]
  },
  {
   "cell_type": "code",
   "execution_count": 9,
   "metadata": {
    "colab": {
     "base_uri": "https://localhost:8080/"
    },
    "id": "uHCeaDB5RCNC",
    "outputId": "4824f5d4-9334-4744-d1a9-55d2685fbec9"
   },
   "outputs": [
    {
     "name": "stdout",
     "output_type": "stream",
     "text": [
      "Trial 90 Complete [00h 00m 09s]\n",
      "val_mae: 0.2716476023197174\n",
      "\n",
      "Best val_mae So Far: 0.2611444890499115\n",
      "Total elapsed time: 00h 03m 09s\n"
     ]
    }
   ],
   "source": [
    "from tensorflow.keras.layers import Dense, Dropout\n",
    "from tensorflow.keras.optimizers import Adam\n",
    "import keras_tuner as kt\n",
    "\n",
    "def build_model(hp):\n",
    "    model = Sequential()\n",
    "    \n",
    "    model.add(Dense(units=hp.Choice('l1_units', values=[32, 64, 128, 256]), \n",
    "                    activation=hp.Choice('activation_1', ['relu', 'tanh']),\n",
    "                    input_dim=X_train.shape[1]))\n",
    "\n",
    "    for i in range(hp.Int('num_layers', 1, 2)):\n",
    "        model.add(Dense(units=hp.Choice(f'l{i+2}_units', values=[32, 64, 128, 256]),\n",
    "                        activation=hp.Choice(f'activation_{i+2}', ['relu', 'tanh'])))\n",
    "        #model.add(Dropout(rate=hp.Choice(f'dropout_{i+2}', values=[0.0, 0.2])))\n",
    "\n",
    "    #model.add(Dense(2))\n",
    "    model.add(Dense(1))\n",
    "\n",
    "    model.compile(\n",
    "        optimizer=Adam(hp.Float('learning_rate', min_value=1e-4, max_value=1e-2, sampling='log')),\n",
    "        loss='mae',\n",
    "        metrics=['mae']\n",
    "    )\n",
    "\n",
    "    return model\n",
    "\n",
    "tuner = kt.Hyperband(build_model,\n",
    "                     objective='val_mae',\n",
    "                     max_epochs=50,\n",
    "                     factor=3,\n",
    "                     seed=42,\n",
    "                     directory='my_dir',\n",
    "                     project_name='tune_exponential_units1')\n",
    "\n",
    "early_stop = EarlyStopping(monitor='val_mae', patience=5, restore_best_weights=True)\n",
    "reduce_lr = ReduceLROnPlateau(monitor='val_mae', factor=0.5, patience=3)\n",
    "\n",
    "tuner.search(X_train, y_train, epochs=50, validation_split=0.2, batch_size=32, callbacks=[early_stop, reduce_lr])"
   ]
  },
  {
   "cell_type": "code",
   "execution_count": 10,
   "metadata": {
    "id": "q17Fr5emXtya"
   },
   "outputs": [
    {
     "name": "stdout",
     "output_type": "stream",
     "text": [
      "l1_units: 64\n",
      "activation_1: relu\n",
      "num_layers: 2\n",
      "l2_units: 64\n",
      "activation_2: relu\n",
      "learning_rate: 0.008623436067374464\n",
      "l3_units: 256\n",
      "activation_3: tanh\n",
      "tuner/epochs: 50\n",
      "tuner/initial_epoch: 17\n",
      "tuner/bracket: 3\n",
      "tuner/round: 3\n",
      "tuner/trial_id: 0046\n"
     ]
    }
   ],
   "source": [
    "best_hps = tuner.get_best_hyperparameters(num_trials=1)[0]\n",
    "\n",
    "for hp_name, hp_value in best_hps.values.items():\n",
    "    print(f\"{hp_name}: {hp_value}\")"
   ]
  },
  {
   "cell_type": "markdown",
   "metadata": {},
   "source": [
    "## Train Best Model"
   ]
  },
  {
   "cell_type": "code",
   "execution_count": 11,
   "metadata": {
    "id": "OGhFpKBSR-Ds"
   },
   "outputs": [
    {
     "name": "stdout",
     "output_type": "stream",
     "text": [
      "Epoch 1/50\n",
      "\u001b[1m255/255\u001b[0m \u001b[32m━━━━━━━━━━━━━━━━━━━━\u001b[0m\u001b[37m\u001b[0m \u001b[1m1s\u001b[0m 673us/step - loss: 2.5873 - mae: 2.5873 - val_loss: 0.5371 - val_mae: 0.5371 - learning_rate: 0.0086\n",
      "Epoch 2/50\n",
      "\u001b[1m255/255\u001b[0m \u001b[32m━━━━━━━━━━━━━━━━━━━━\u001b[0m\u001b[37m\u001b[0m \u001b[1m0s\u001b[0m 501us/step - loss: 0.5252 - mae: 0.5252 - val_loss: 0.7104 - val_mae: 0.7104 - learning_rate: 0.0086\n",
      "Epoch 3/50\n",
      "\u001b[1m255/255\u001b[0m \u001b[32m━━━━━━━━━━━━━━━━━━━━\u001b[0m\u001b[37m\u001b[0m \u001b[1m0s\u001b[0m 506us/step - loss: 0.4035 - mae: 0.4035 - val_loss: 0.3398 - val_mae: 0.3398 - learning_rate: 0.0086\n",
      "Epoch 4/50\n",
      "\u001b[1m255/255\u001b[0m \u001b[32m━━━━━━━━━━━━━━━━━━━━\u001b[0m\u001b[37m\u001b[0m \u001b[1m0s\u001b[0m 504us/step - loss: 0.3794 - mae: 0.3794 - val_loss: 0.2953 - val_mae: 0.2953 - learning_rate: 0.0086\n",
      "Epoch 5/50\n",
      "\u001b[1m255/255\u001b[0m \u001b[32m━━━━━━━━━━━━━━━━━━━━\u001b[0m\u001b[37m\u001b[0m \u001b[1m0s\u001b[0m 497us/step - loss: 0.3308 - mae: 0.3308 - val_loss: 0.3628 - val_mae: 0.3628 - learning_rate: 0.0086\n",
      "Epoch 6/50\n",
      "\u001b[1m255/255\u001b[0m \u001b[32m━━━━━━━━━━━━━━━━━━━━\u001b[0m\u001b[37m\u001b[0m \u001b[1m0s\u001b[0m 500us/step - loss: 0.3362 - mae: 0.3362 - val_loss: 0.3062 - val_mae: 0.3062 - learning_rate: 0.0086\n",
      "Epoch 7/50\n",
      "\u001b[1m255/255\u001b[0m \u001b[32m━━━━━━━━━━━━━━━━━━━━\u001b[0m\u001b[37m\u001b[0m \u001b[1m0s\u001b[0m 512us/step - loss: 0.3470 - mae: 0.3470 - val_loss: 0.4686 - val_mae: 0.4686 - learning_rate: 0.0086\n",
      "Epoch 8/50\n",
      "\u001b[1m255/255\u001b[0m \u001b[32m━━━━━━━━━━━━━━━━━━━━\u001b[0m\u001b[37m\u001b[0m \u001b[1m0s\u001b[0m 508us/step - loss: 0.2855 - mae: 0.2855 - val_loss: 0.3013 - val_mae: 0.3013 - learning_rate: 0.0043\n",
      "Epoch 9/50\n",
      "\u001b[1m255/255\u001b[0m \u001b[32m━━━━━━━━━━━━━━━━━━━━\u001b[0m\u001b[37m\u001b[0m \u001b[1m0s\u001b[0m 558us/step - loss: 0.2844 - mae: 0.2844 - val_loss: 0.3126 - val_mae: 0.3126 - learning_rate: 0.0043\n"
     ]
    }
   ],
   "source": [
    "best_model = tuner.hypermodel.build(best_hps)\n",
    "history = best_model.fit(X_train, y_train, epochs=50, validation_split=0.2, batch_size=32, callbacks=[early_stop, reduce_lr])"
   ]
  },
  {
   "cell_type": "code",
   "execution_count": 12,
   "metadata": {
    "id": "kvJDoE19R--c"
   },
   "outputs": [
    {
     "data": {
      "text/html": [
       "<div>\n",
       "<style scoped>\n",
       "    .dataframe tbody tr th:only-of-type {\n",
       "        vertical-align: middle;\n",
       "    }\n",
       "\n",
       "    .dataframe tbody tr th {\n",
       "        vertical-align: top;\n",
       "    }\n",
       "\n",
       "    .dataframe thead th {\n",
       "        text-align: right;\n",
       "    }\n",
       "</style>\n",
       "<table border=\"1\" class=\"dataframe\">\n",
       "  <thead>\n",
       "    <tr style=\"text-align: right;\">\n",
       "      <th></th>\n",
       "      <th>loss</th>\n",
       "      <th>mae</th>\n",
       "      <th>val_loss</th>\n",
       "      <th>val_mae</th>\n",
       "      <th>learning_rate</th>\n",
       "    </tr>\n",
       "  </thead>\n",
       "  <tbody>\n",
       "    <tr>\n",
       "      <th>0</th>\n",
       "      <td>1.074324</td>\n",
       "      <td>1.074324</td>\n",
       "      <td>0.537090</td>\n",
       "      <td>0.537090</td>\n",
       "      <td>0.008623</td>\n",
       "    </tr>\n",
       "    <tr>\n",
       "      <th>1</th>\n",
       "      <td>0.522783</td>\n",
       "      <td>0.522783</td>\n",
       "      <td>0.710354</td>\n",
       "      <td>0.710354</td>\n",
       "      <td>0.008623</td>\n",
       "    </tr>\n",
       "    <tr>\n",
       "      <th>2</th>\n",
       "      <td>0.378957</td>\n",
       "      <td>0.378957</td>\n",
       "      <td>0.339840</td>\n",
       "      <td>0.339840</td>\n",
       "      <td>0.008623</td>\n",
       "    </tr>\n",
       "    <tr>\n",
       "      <th>3</th>\n",
       "      <td>0.378920</td>\n",
       "      <td>0.378920</td>\n",
       "      <td>0.295298</td>\n",
       "      <td>0.295298</td>\n",
       "      <td>0.008623</td>\n",
       "    </tr>\n",
       "    <tr>\n",
       "      <th>4</th>\n",
       "      <td>0.334213</td>\n",
       "      <td>0.334213</td>\n",
       "      <td>0.362784</td>\n",
       "      <td>0.362784</td>\n",
       "      <td>0.008623</td>\n",
       "    </tr>\n",
       "    <tr>\n",
       "      <th>5</th>\n",
       "      <td>0.313708</td>\n",
       "      <td>0.313708</td>\n",
       "      <td>0.306191</td>\n",
       "      <td>0.306191</td>\n",
       "      <td>0.008623</td>\n",
       "    </tr>\n",
       "    <tr>\n",
       "      <th>6</th>\n",
       "      <td>0.351744</td>\n",
       "      <td>0.351744</td>\n",
       "      <td>0.468613</td>\n",
       "      <td>0.468613</td>\n",
       "      <td>0.008623</td>\n",
       "    </tr>\n",
       "    <tr>\n",
       "      <th>7</th>\n",
       "      <td>0.276729</td>\n",
       "      <td>0.276729</td>\n",
       "      <td>0.301296</td>\n",
       "      <td>0.301296</td>\n",
       "      <td>0.004312</td>\n",
       "    </tr>\n",
       "    <tr>\n",
       "      <th>8</th>\n",
       "      <td>0.282588</td>\n",
       "      <td>0.282588</td>\n",
       "      <td>0.312555</td>\n",
       "      <td>0.312555</td>\n",
       "      <td>0.004312</td>\n",
       "    </tr>\n",
       "  </tbody>\n",
       "</table>\n",
       "</div>"
      ],
      "text/plain": [
       "       loss       mae  val_loss   val_mae  learning_rate\n",
       "0  1.074324  1.074324  0.537090  0.537090       0.008623\n",
       "1  0.522783  0.522783  0.710354  0.710354       0.008623\n",
       "2  0.378957  0.378957  0.339840  0.339840       0.008623\n",
       "3  0.378920  0.378920  0.295298  0.295298       0.008623\n",
       "4  0.334213  0.334213  0.362784  0.362784       0.008623\n",
       "5  0.313708  0.313708  0.306191  0.306191       0.008623\n",
       "6  0.351744  0.351744  0.468613  0.468613       0.008623\n",
       "7  0.276729  0.276729  0.301296  0.301296       0.004312\n",
       "8  0.282588  0.282588  0.312555  0.312555       0.004312"
      ]
     },
     "execution_count": 12,
     "metadata": {},
     "output_type": "execute_result"
    }
   ],
   "source": [
    "pd.DataFrame(history.history)"
   ]
  },
  {
   "cell_type": "code",
   "execution_count": 13,
   "metadata": {
    "id": "N1n-E7o6SDZm"
   },
   "outputs": [
    {
     "data": {
      "image/png": "[encoded data removed]",
      "text/plain": [
       "<Figure size 640x480 with 1 Axes>"
      ]
     },
     "metadata": {},
     "output_type": "display_data"
    }
   ],
   "source": [
    "sns.set()\n",
    "\n",
    "err = history.history['mae']\n",
    "val_err = history.history['val_mae']\n",
    "epochs = range(1, len(err) + 1)\n",
    "\n",
    "plt.plot(epochs, err, '-', label='Training MAE')\n",
    "plt.plot(epochs, val_err, ':', label='Validation MAE')\n",
    "plt.title('Training and Validation MAE')\n",
    "plt.xlabel('Epoch')\n",
    "plt.ylabel('Mean Absolute Error')\n",
    "plt.legend(loc='upper right')\n",
    "plt.show()"
   ]
  },
  {
   "cell_type": "markdown",
   "metadata": {},
   "source": [
    "# Evaluation Results"
   ]
  },
  {
   "cell_type": "markdown",
   "metadata": {},
   "source": [
    "## Evaluation on Test Split"
   ]
  },
  {
   "cell_type": "code",
   "execution_count": 14,
   "metadata": {
    "id": "TJuuO_cOSKKk"
   },
   "outputs": [
    {
     "name": "stdout",
     "output_type": "stream",
     "text": [
      "\u001b[1m80/80\u001b[0m \u001b[32m━━━━━━━━━━━━━━━━━━━━\u001b[0m\u001b[37m\u001b[0m \u001b[1m0s\u001b[0m 824us/step\n",
      "--------------------------------------Result from the best model on test data ---------------------------------------------\n",
      "Target 1 - Mean Absolute Error (MAE): 0.2814198805743953\n",
      "Target 1 - Mean Squared Error (MSE): 0.27086901597605717\n",
      "Target 1 - R-squared (R^2): 0.8090288839936196\n"
     ]
    }
   ],
   "source": [
    "from sklearn.metrics import mean_absolute_error, mean_squared_error, r2_score\n",
    "\n",
    "y_pred = best_model.predict(X_test)\n",
    "\n",
    "#y_pred = scaler_y.inverse_transform(y_pred)\n",
    "#y_test = scaler_y.inverse_transform(y_test)\n",
    "\n",
    "'''mae_1 = mean_absolute_error(y_test[:, 0], y_pred[:, 0])\n",
    "mse_1 = mean_squared_error(y_test[:, 0], y_pred[:, 0])\n",
    "r2_1 = r2_score(y_test[:, 0], y_pred[:, 0])\n",
    "\n",
    "# Calculate metrics for the second target variable (e.g., SPEED_NEXT_15_AVG)\n",
    "mae_2 = mean_absolute_error(y_test[:, 1], y_pred[:, 1])\n",
    "mse_2 = mean_squared_error(y_test[:, 1], y_pred[:, 1])\n",
    "r2_2 = r2_score(y_test[:, 1], y_pred[:, 1])\n",
    "\n",
    "# Optionally, calculate the overall mean of the MAE, MSE, and R^2 across both outputs\n",
    "mae_avg = (mae_1 + mae_2) / 2\n",
    "mse_avg = (mse_1 + mse_2) / 2\n",
    "r2_avg = (r2_1 + r2_2) / 2\n",
    "\n",
    "print('--------------------------------------Result from the best model on test data ---------------------------------------------')\n",
    "print(f\"Target 1 - Mean Absolute Error (MAE): {mae_1}\")\n",
    "print(f\"Target 1 - Mean Squared Error (MSE): {mse_1}\")\n",
    "print(f\"Target 1 - R-squared (R^2): {r2_1}\")\n",
    "print()\n",
    "print(f\"Target 2 - Mean Absolute Error (MAE): {mae_2}\")\n",
    "print(f\"Target 2 - Mean Squared Error (MSE): {mse_2}\")\n",
    "print(f\"Target 2 - R-squared (R^2): {r2_2}\")\n",
    "print()\n",
    "print(f\"Average MAE: {mae_avg}\")\n",
    "print(f\"Average MSE: {mse_avg}\")\n",
    "print(f\"Average R-squared: {r2_avg}\")'''\n",
    "\n",
    "mae_1 = mean_absolute_error(y_test, y_pred)\n",
    "mse_1 = mean_squared_error(y_test, y_pred)\n",
    "r2_1 = r2_score(y_test, y_pred)\n",
    "\n",
    "print('--------------------------------------Result from the best model on test data ---------------------------------------------')\n",
    "print(f\"Target 1 - Mean Absolute Error (MAE): {mae_1}\")\n",
    "print(f\"Target 1 - Mean Squared Error (MSE): {mse_1}\")\n",
    "print(f\"Target 1 - R-squared (R^2): {r2_1}\")\n"
   ]
  },
  {
   "cell_type": "markdown",
   "metadata": {
    "id": "DEffz_iBTp0R"
   },
   "source": [
    "## Evaluation on Full Final Evaluation Dataset"
   ]
  },
  {
   "cell_type": "code",
   "execution_count": 15,
   "metadata": {
    "id": "Chy40x01TpHB"
   },
   "outputs": [
    {
     "name": "stdout",
     "output_type": "stream",
     "text": [
      "\u001b[1m798/798\u001b[0m \u001b[32m━━━━━━━━━━━━━━━━━━━━\u001b[0m\u001b[37m\u001b[0m \u001b[1m0s\u001b[0m 258us/step\n",
      "--------------------------------------Result from the best model on test data ---------------------------------------------\n",
      "Target 1 - Mean Absolute Error (MAE): 0.5321916459452568\n",
      "Target 1 - Mean Squared Error (MSE): 0.9621499087441935\n",
      "Target 1 - R-squared (R^2): 0.6079030914000314\n"
     ]
    }
   ],
   "source": [
    "eval_df = eval_df[features]\n",
    "\n",
    "x_eval = eval_df.drop(['FLOW_NEXT_15_SUM', 'SPEED_NEXT_15_AVG'], axis=1)\n",
    "#y_eval = eval_df[['FLOW_NEXT_15_SUM', 'SPEED_NEXT_15_AVG']]\n",
    "y_eval = eval_df['SPEED_NEXT_15_AVG']\n",
    "\n",
    "x_eval = scaler_x.transform(x_eval)\n",
    "\n",
    "y_pred = best_model.predict(x_eval)\n",
    "\n",
    "#y_pred = scaler_y.inverse_transform(y_pred)\n",
    "#y_eval = scaler_y.inverse_transform(y_eval)\n",
    "\n",
    "'''mae_1 = mean_absolute_error(y_eval['FLOW_NEXT_15_SUM'], y_pred[:, 0])\n",
    "mse_1 = mean_squared_error(y_eval['FLOW_NEXT_15_SUM'], y_pred[:, 0])\n",
    "r2_1 = r2_score(y_eval['FLOW_NEXT_15_SUM'], y_pred[:, 0])\n",
    "\n",
    "# Calculate metrics for the second target variable (e.g., SPEED_NEXT_15_AVG)\n",
    "mae_2 = mean_absolute_error(y_eval['SPEED_NEXT_15_AVG'], y_pred[:, 1])\n",
    "mse_2 = mean_squared_error(y_eval['SPEED_NEXT_15_AVG'], y_pred[:, 1])\n",
    "r2_2 = r2_score(y_eval['SPEED_NEXT_15_AVG'], y_pred[:, 1])\n",
    "\n",
    "# Optionally, calculate the overall mean of the MAE, MSE, and R^2 across both outputs\n",
    "mae_avg = (mae_1 + mae_2) / 2\n",
    "mse_avg = (mse_1 + mse_2) / 2\n",
    "r2_avg = (r2_1 + r2_2) / 2\n",
    "\n",
    "print('--------------------------------------Result from the best model on test data ---------------------------------------------')\n",
    "print(f\"Target 1 - Mean Absolute Error (MAE): {mae_1}\")\n",
    "print(f\"Target 1 - Mean Squared Error (MSE): {mse_1}\")\n",
    "print(f\"Target 1 - R-squared (R^2): {r2_1}\")\n",
    "print()\n",
    "print(f\"Target 2 - Mean Absolute Error (MAE): {mae_2}\")\n",
    "print(f\"Target 2 - Mean Squared Error (MSE): {mse_2}\")\n",
    "print(f\"Target 2 - R-squared (R^2): {r2_2}\")\n",
    "print()\n",
    "print(f\"Average MAE: {mae_avg}\")\n",
    "print(f\"Average MSE: {mse_avg}\")\n",
    "print(f\"Average R-squared: {r2_avg}\")'''\n",
    "\n",
    "mae_1 = mean_absolute_error(y_eval, y_pred)\n",
    "mse_1 = mean_squared_error(y_eval, y_pred)\n",
    "r2_1 = r2_score(y_eval, y_pred)\n",
    "\n",
    "print('--------------------------------------Result from the best model on test data ---------------------------------------------')\n",
    "print(f\"Target 1 - Mean Absolute Error (MAE): {mae_1}\")\n",
    "print(f\"Target 1 - Mean Squared Error (MSE): {mse_1}\")\n",
    "print(f\"Target 1 - R-squared (R^2): {r2_1}\")\n"
   ]
  },
  {
   "cell_type": "markdown",
   "metadata": {
    "id": "TYoYzmS-Wv5U"
   },
   "source": [
    "## Evaluation on Peak Final Evaluation Dataset"
   ]
  },
  {
   "cell_type": "code",
   "execution_count": 16,
   "metadata": {
    "id": "rcvJJTxRWvWC"
   },
   "outputs": [
    {
     "name": "stdout",
     "output_type": "stream",
     "text": [
      "\u001b[1m169/169\u001b[0m \u001b[32m━━━━━━━━━━━━━━━━━━━━\u001b[0m\u001b[37m\u001b[0m \u001b[1m0s\u001b[0m 262us/step\n",
      "--------------------------------------Result from the best model on test data ---------------------------------------------\n",
      "Target 1 - Mean Absolute Error (MAE): 0.3473737783845219\n",
      "Target 1 - Mean Squared Error (MSE): 0.7246948204469437\n",
      "Target 1 - R-squared (R^2): 0.7279193622617137\n"
     ]
    }
   ],
   "source": [
    "eval_df_peak= peak_eval_df[features]\n",
    "\n",
    "x_eval = eval_df_peak.drop(['FLOW_NEXT_15_SUM', 'SPEED_NEXT_15_AVG'], axis=1)\n",
    "#y_eval = eval_df_peak[['FLOW_NEXT_15_SUM', 'SPEED_NEXT_15_AVG']]\n",
    "y_eval = eval_df_peak['SPEED_NEXT_15_AVG']\n",
    "\n",
    "x_eval = scaler_x.transform(x_eval)\n",
    "\n",
    "#y_pred = scaler_y.inverse_transform(y_pred)\n",
    "#y_eval = scaler_y.inverse_transform(y_eval)\n",
    "\n",
    "y_pred = best_model.predict(x_eval)\n",
    "\n",
    "'''mae_1 = mean_absolute_error(y_eval['FLOW_NEXT_15_SUM'], y_pred[:, 0])\n",
    "mse_1 = mean_squared_error(y_eval['FLOW_NEXT_15_SUM'], y_pred[:, 0])\n",
    "r2_1 = r2_score(y_eval['FLOW_NEXT_15_SUM'], y_pred[:, 0])\n",
    "\n",
    "# Calculate metrics for the second target variable (e.g., SPEED_NEXT_15_AVG)\n",
    "mae_2 = mean_absolute_error(y_eval['SPEED_NEXT_15_AVG'], y_pred[:, 1])\n",
    "mse_2 = mean_squared_error(y_eval['SPEED_NEXT_15_AVG'], y_pred[:, 1])\n",
    "r2_2 = r2_score(y_eval['SPEED_NEXT_15_AVG'], y_pred[:, 1])\n",
    "\n",
    "print('--------------------------------------Result from the best model on test data ---------------------------------------------')\n",
    "print(f\"Target 1 - Mean Absolute Error (MAE): {mae_1}\")\n",
    "print(f\"Target 1 - Mean Squared Error (MSE): {mse_1}\")\n",
    "print(f\"Target 1 - R-squared (R^2): {r2_1}\")\n",
    "print()\n",
    "print(f\"Target 2 - Mean Absolute Error (MAE): {mae_2}\")\n",
    "print(f\"Target 2 - Mean Squared Error (MSE): {mse_2}\")\n",
    "print(f\"Target 2 - R-squared (R^2): {r2_2}\")\n",
    "print()\n",
    "print(f\"Average MAE: {mae_avg}\")\n",
    "print(f\"Average MSE: {mse_avg}\")\n",
    "print(f\"Average R-squared: {r2_avg}\")'''\n",
    "\n",
    "mae_1 = mean_absolute_error(y_eval, y_pred)\n",
    "mse_1 = mean_squared_error(y_eval, y_pred)\n",
    "r2_1 = r2_score(y_eval, y_pred)\n",
    "\n",
    "print('--------------------------------------Result from the best model on test data ---------------------------------------------')\n",
    "print(f\"Target 1 - Mean Absolute Error (MAE): {mae_1}\")\n",
    "print(f\"Target 1 - Mean Squared Error (MSE): {mse_1}\")\n",
    "print(f\"Target 1 - R-squared (R^2): {r2_1}\")"
   ]
  },
  {
   "cell_type": "markdown",
   "metadata": {},
   "source": [
    "# Save Model"
   ]
  },
  {
   "cell_type": "code",
   "execution_count": 17,
   "metadata": {
    "id": "Y0xSZK-XUvmB"
   },
   "outputs": [],
   "source": [
    "best_model.save('best_univar_NN_speed_portalPeakTraining.keras')"
   ]
  },
  {
   "cell_type": "code",
   "execution_count": null,
   "metadata": {},
   "outputs": [],
   "source": []
  }
 ],
 "metadata": {
  "colab": {
   "provenance": []
  },
  "kernelspec": {
   "display_name": "Python 3 (ipykernel)",
   "language": "python",
   "name": "python3"
  },
  "language_info": {
   "codemirror_mode": {
    "name": "ipython",
    "version": 3
   },
   "file_extension": ".py",
   "mimetype": "text/x-python",
   "name": "python",
   "nbconvert_exporter": "python",
   "pygments_lexer": "ipython3",
   "version": "3.11.4"
  }
 },
 "nbformat": 4,
 "nbformat_minor": 1
}
