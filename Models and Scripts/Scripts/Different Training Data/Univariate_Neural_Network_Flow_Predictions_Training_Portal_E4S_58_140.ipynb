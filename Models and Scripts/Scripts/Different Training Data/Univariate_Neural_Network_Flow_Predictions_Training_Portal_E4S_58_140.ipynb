{
 "cells": [
  {
   "cell_type": "markdown",
   "metadata": {},
   "source": [
    "# Univariate Neural Network Flow Predictions Training Portal E4S 58.140"
   ]
  },
  {
   "cell_type": "markdown",
   "metadata": {},
   "source": [
    "# Imports of Libraries and Datasets"
   ]
  },
  {
   "cell_type": "code",
   "execution_count": 1,
   "metadata": {
    "id": "u0PXjnRBCRuP"
   },
   "outputs": [],
   "source": [
    "import pandas as pd\n",
    "from sklearn.model_selection import train_test_split\n",
    "%matplotlib inline\n",
    "import matplotlib.pyplot as plt\n",
    "import seaborn as sns\n",
    "from tensorflow.keras.models import Sequential\n",
    "from tensorflow.keras.layers import Dense\n",
    "from tensorflow.keras.layers import Dropout\n",
    "from tensorflow.keras.callbacks import EarlyStopping, ReduceLROnPlateau, ModelCheckpoint\n",
    "from keras.models import load_model\n",
    "from sklearn.linear_model import LinearRegression\n",
    "from sklearn.metrics import mean_absolute_error, mean_squared_error, r2_score\n",
    "from sklearn.preprocessing import StandardScaler, MinMaxScaler"
   ]
  },
  {
   "cell_type": "code",
   "execution_count": 2,
   "metadata": {
    "id": "OQM6DvSnRXAe"
   },
   "outputs": [],
   "source": [
    "from tensorflow.keras.optimizers import Adam\n",
    "from tensorflow.keras.callbacks import EarlyStopping, ReduceLROnPlateau"
   ]
  },
  {
   "cell_type": "code",
   "execution_count": 3,
   "metadata": {
    "colab": {
     "base_uri": "https://localhost:8080/"
    },
    "id": "RVSYn8SQQX1D",
    "outputId": "182190e2-fc27-4cd2-915e-7909925cf3b7"
   },
   "outputs": [
    {
     "name": "stdout",
     "output_type": "stream",
     "text": [
      "Requirement already satisfied: tensorflow in /Users/algotsjoholm/anaconda3/lib/python3.11/site-packages (2.17.0)\n",
      "Requirement already satisfied: absl-py>=1.0.0 in /Users/algotsjoholm/anaconda3/lib/python3.11/site-packages (from tensorflow) (2.1.0)\n",
      "Requirement already satisfied: astunparse>=1.6.0 in /Users/algotsjoholm/anaconda3/lib/python3.11/site-packages (from tensorflow) (1.6.3)\n",
      "Requirement already satisfied: flatbuffers>=24.3.25 in /Users/algotsjoholm/anaconda3/lib/python3.11/site-packages (from tensorflow) (24.3.25)\n",
      "Requirement already satisfied: gast!=0.5.0,!=0.5.1,!=0.5.2,>=0.2.1 in /Users/algotsjoholm/anaconda3/lib/python3.11/site-packages (from tensorflow) (0.6.0)\n",
      "Requirement already satisfied: google-pasta>=0.1.1 in /Users/algotsjoholm/anaconda3/lib/python3.11/site-packages (from tensorflow) (0.2.0)\n",
      "Requirement already satisfied: h5py>=3.10.0 in /Users/algotsjoholm/anaconda3/lib/python3.11/site-packages (from tensorflow) (3.12.1)\n",
      "Requirement already satisfied: libclang>=13.0.0 in /Users/algotsjoholm/anaconda3/lib/python3.11/site-packages (from tensorflow) (18.1.1)\n",
      "Requirement already satisfied: ml-dtypes<0.5.0,>=0.3.1 in /Users/algotsjoholm/anaconda3/lib/python3.11/site-packages (from tensorflow) (0.4.1)\n",
      "Requirement already satisfied: opt-einsum>=2.3.2 in /Users/algotsjoholm/anaconda3/lib/python3.11/site-packages (from tensorflow) (3.4.0)\n",
      "Requirement already satisfied: packaging in /Users/algotsjoholm/anaconda3/lib/python3.11/site-packages (from tensorflow) (23.0)\n",
      "Requirement already satisfied: protobuf!=4.21.0,!=4.21.1,!=4.21.2,!=4.21.3,!=4.21.4,!=4.21.5,<5.0.0dev,>=3.20.3 in /Users/algotsjoholm/anaconda3/lib/python3.11/site-packages (from tensorflow) (4.25.5)\n",
      "Requirement already satisfied: requests<3,>=2.21.0 in /Users/algotsjoholm/anaconda3/lib/python3.11/site-packages (from tensorflow) (2.31.0)\n",
      "Requirement already satisfied: setuptools in /Users/algotsjoholm/anaconda3/lib/python3.11/site-packages (from tensorflow) (68.0.0)\n",
      "Requirement already satisfied: six>=1.12.0 in /Users/algotsjoholm/anaconda3/lib/python3.11/site-packages (from tensorflow) (1.16.0)\n",
      "Requirement already satisfied: termcolor>=1.1.0 in /Users/algotsjoholm/anaconda3/lib/python3.11/site-packages (from tensorflow) (2.5.0)\n",
      "Requirement already satisfied: typing-extensions>=3.6.6 in /Users/algotsjoholm/anaconda3/lib/python3.11/site-packages (from tensorflow) (4.7.1)\n",
      "Requirement already satisfied: wrapt>=1.11.0 in /Users/algotsjoholm/anaconda3/lib/python3.11/site-packages (from tensorflow) (1.14.1)\n",
      "Requirement already satisfied: grpcio<2.0,>=1.24.3 in /Users/algotsjoholm/anaconda3/lib/python3.11/site-packages (from tensorflow) (1.66.2)\n",
      "Requirement already satisfied: tensorboard<2.18,>=2.17 in /Users/algotsjoholm/anaconda3/lib/python3.11/site-packages (from tensorflow) (2.17.1)\n",
      "Requirement already satisfied: keras>=3.2.0 in /Users/algotsjoholm/anaconda3/lib/python3.11/site-packages (from tensorflow) (3.6.0)\n",
      "Requirement already satisfied: tensorflow-io-gcs-filesystem>=0.23.1 in /Users/algotsjoholm/anaconda3/lib/python3.11/site-packages (from tensorflow) (0.37.1)\n",
      "Requirement already satisfied: numpy<2.0.0,>=1.23.5 in /Users/algotsjoholm/anaconda3/lib/python3.11/site-packages (from tensorflow) (1.24.3)\n",
      "Requirement already satisfied: wheel<1.0,>=0.23.0 in /Users/algotsjoholm/anaconda3/lib/python3.11/site-packages (from astunparse>=1.6.0->tensorflow) (0.38.4)\n",
      "Requirement already satisfied: rich in /Users/algotsjoholm/anaconda3/lib/python3.11/site-packages (from keras>=3.2.0->tensorflow) (13.9.2)\n",
      "Requirement already satisfied: namex in /Users/algotsjoholm/anaconda3/lib/python3.11/site-packages (from keras>=3.2.0->tensorflow) (0.0.8)\n",
      "Requirement already satisfied: optree in /Users/algotsjoholm/anaconda3/lib/python3.11/site-packages (from keras>=3.2.0->tensorflow) (0.13.0)\n",
      "Requirement already satisfied: charset-normalizer<4,>=2 in /Users/algotsjoholm/anaconda3/lib/python3.11/site-packages (from requests<3,>=2.21.0->tensorflow) (2.0.4)\n",
      "Requirement already satisfied: idna<4,>=2.5 in /Users/algotsjoholm/anaconda3/lib/python3.11/site-packages (from requests<3,>=2.21.0->tensorflow) (3.4)\n",
      "Requirement already satisfied: urllib3<3,>=1.21.1 in /Users/algotsjoholm/anaconda3/lib/python3.11/site-packages (from requests<3,>=2.21.0->tensorflow) (1.26.16)\n",
      "Requirement already satisfied: certifi>=2017.4.17 in /Users/algotsjoholm/anaconda3/lib/python3.11/site-packages (from requests<3,>=2.21.0->tensorflow) (2023.7.22)\n",
      "Requirement already satisfied: markdown>=2.6.8 in /Users/algotsjoholm/anaconda3/lib/python3.11/site-packages (from tensorboard<2.18,>=2.17->tensorflow) (3.4.1)\n",
      "Requirement already satisfied: tensorboard-data-server<0.8.0,>=0.7.0 in /Users/algotsjoholm/anaconda3/lib/python3.11/site-packages (from tensorboard<2.18,>=2.17->tensorflow) (0.7.2)\n",
      "Requirement already satisfied: werkzeug>=1.0.1 in /Users/algotsjoholm/anaconda3/lib/python3.11/site-packages (from tensorboard<2.18,>=2.17->tensorflow) (2.2.3)\n",
      "Requirement already satisfied: MarkupSafe>=2.1.1 in /Users/algotsjoholm/anaconda3/lib/python3.11/site-packages (from werkzeug>=1.0.1->tensorboard<2.18,>=2.17->tensorflow) (2.1.1)\n",
      "Requirement already satisfied: markdown-it-py>=2.2.0 in /Users/algotsjoholm/anaconda3/lib/python3.11/site-packages (from rich->keras>=3.2.0->tensorflow) (2.2.0)\n",
      "Requirement already satisfied: pygments<3.0.0,>=2.13.0 in /Users/algotsjoholm/anaconda3/lib/python3.11/site-packages (from rich->keras>=3.2.0->tensorflow) (2.15.1)\n",
      "Requirement already satisfied: mdurl~=0.1 in /Users/algotsjoholm/anaconda3/lib/python3.11/site-packages (from markdown-it-py>=2.2.0->rich->keras>=3.2.0->tensorflow) (0.1.0)\n",
      "zsh:1: no matches found: tensorflow[and-cuda]\n",
      "Requirement already satisfied: keras-tuner in /Users/algotsjoholm/anaconda3/lib/python3.11/site-packages (1.4.7)\n",
      "Requirement already satisfied: keras in /Users/algotsjoholm/anaconda3/lib/python3.11/site-packages (from keras-tuner) (3.6.0)\n",
      "Requirement already satisfied: packaging in /Users/algotsjoholm/anaconda3/lib/python3.11/site-packages (from keras-tuner) (23.0)\n",
      "Requirement already satisfied: requests in /Users/algotsjoholm/anaconda3/lib/python3.11/site-packages (from keras-tuner) (2.31.0)\n",
      "Requirement already satisfied: kt-legacy in /Users/algotsjoholm/anaconda3/lib/python3.11/site-packages (from keras-tuner) (1.0.5)\n",
      "Requirement already satisfied: absl-py in /Users/algotsjoholm/anaconda3/lib/python3.11/site-packages (from keras->keras-tuner) (2.1.0)\n",
      "Requirement already satisfied: numpy in /Users/algotsjoholm/anaconda3/lib/python3.11/site-packages (from keras->keras-tuner) (1.24.3)\n",
      "Requirement already satisfied: rich in /Users/algotsjoholm/anaconda3/lib/python3.11/site-packages (from keras->keras-tuner) (13.9.2)\n",
      "Requirement already satisfied: namex in /Users/algotsjoholm/anaconda3/lib/python3.11/site-packages (from keras->keras-tuner) (0.0.8)\n",
      "Requirement already satisfied: h5py in /Users/algotsjoholm/anaconda3/lib/python3.11/site-packages (from keras->keras-tuner) (3.12.1)\n",
      "Requirement already satisfied: optree in /Users/algotsjoholm/anaconda3/lib/python3.11/site-packages (from keras->keras-tuner) (0.13.0)\n",
      "Requirement already satisfied: ml-dtypes in /Users/algotsjoholm/anaconda3/lib/python3.11/site-packages (from keras->keras-tuner) (0.4.1)\n",
      "Requirement already satisfied: charset-normalizer<4,>=2 in /Users/algotsjoholm/anaconda3/lib/python3.11/site-packages (from requests->keras-tuner) (2.0.4)\n",
      "Requirement already satisfied: idna<4,>=2.5 in /Users/algotsjoholm/anaconda3/lib/python3.11/site-packages (from requests->keras-tuner) (3.4)\n",
      "Requirement already satisfied: urllib3<3,>=1.21.1 in /Users/algotsjoholm/anaconda3/lib/python3.11/site-packages (from requests->keras-tuner) (1.26.16)\n",
      "Requirement already satisfied: certifi>=2017.4.17 in /Users/algotsjoholm/anaconda3/lib/python3.11/site-packages (from requests->keras-tuner) (2023.7.22)\n",
      "Requirement already satisfied: typing-extensions>=4.5.0 in /Users/algotsjoholm/anaconda3/lib/python3.11/site-packages (from optree->keras->keras-tuner) (4.7.1)\n",
      "Requirement already satisfied: markdown-it-py>=2.2.0 in /Users/algotsjoholm/anaconda3/lib/python3.11/site-packages (from rich->keras->keras-tuner) (2.2.0)\n",
      "Requirement already satisfied: pygments<3.0.0,>=2.13.0 in /Users/algotsjoholm/anaconda3/lib/python3.11/site-packages (from rich->keras->keras-tuner) (2.15.1)\n",
      "Requirement already satisfied: mdurl~=0.1 in /Users/algotsjoholm/anaconda3/lib/python3.11/site-packages (from markdown-it-py>=2.2.0->rich->keras->keras-tuner) (0.1.0)\n"
     ]
    }
   ],
   "source": [
    "!pip install tensorflow\n",
    "!pip install tensorflow[and-cuda]\n",
    "!pip install keras-tuner --upgrade\n",
    "import keras_tuner as kt"
   ]
  },
  {
   "cell_type": "code",
   "execution_count": 4,
   "metadata": {
    "id": "Gjzkx_mnCRpb"
   },
   "outputs": [],
   "source": [
    "#project_path = '/content/gdrive/MyDrive/Samhällsbyggnadsprogrammet/AH2179/Project/' # set your own project path\n",
    "#df=pd.read_csv(project_path+'preprocessingV4.csv',sep=';') #Jennifers path\n",
    "#project_path = '/content/gdrive/MyDrive/Project Applied AI/Data/' #Linneas path\n",
    "train_df=pd.read_csv('/Users/algotsjoholm/Downloads/preprocessingV5.csv',sep=';')\n",
    "train_df = train_df.dropna()"
   ]
  },
  {
   "cell_type": "code",
   "execution_count": 5,
   "metadata": {
    "colab": {
     "base_uri": "https://localhost:8080/",
     "height": 320
    },
    "id": "4VLfhps6iiZ7",
    "outputId": "99d3f145-07c9-4583-a7a1-b77aab517728"
   },
   "outputs": [],
   "source": [
    "eval_df=pd.read_csv('/Users/algotsjoholm/Downloads/evalpreproV3.csv',sep=';') #change\n",
    "eval_df = eval_df.dropna()\n",
    "eval_df.describe()\n",
    "eval_df = eval_df[eval_df['PORTAL'] == 'E4S 58,140']"
   ]
  },
  {
   "cell_type": "code",
   "execution_count": 6,
   "metadata": {
    "colab": {
     "base_uri": "https://localhost:8080/",
     "height": 617
    },
    "id": "Ln9y5STNFD6d",
    "outputId": "a42cacbd-2408-4eb2-b5e2-9202258eaadd"
   },
   "outputs": [],
   "source": [
    "train_df\n",
    "train_df = train_df[train_df['PORTAL'] == 'E4S 58,140']\n",
    "#train_df  = train_df[(train_df['Interval_1'] > 450) & (train_df['Interval_1'] <=510)]"
   ]
  },
  {
   "cell_type": "code",
   "execution_count": 7,
   "metadata": {
    "colab": {
     "base_uri": "https://localhost:8080/",
     "height": 617
    },
    "id": "C7ICXTebCRkj",
    "outputId": "c1578157-8b4c-4c1f-d84e-b6022db0fb78"
   },
   "outputs": [],
   "source": [
    "peak_eval_df=pd.read_csv('/Users/algotsjoholm/Downloads/peakevalpreproV2.csv',sep=';') #change\n",
    "peak_eval_df = peak_eval_df.dropna()\n",
    "peak_eval_df\n",
    "peak_eval_df = peak_eval_df[peak_eval_df['PORTAL'] == 'E4S 58,140']"
   ]
  },
  {
   "cell_type": "markdown",
   "metadata": {},
   "source": [
    "# Model Creation"
   ]
  },
  {
   "cell_type": "markdown",
   "metadata": {},
   "source": [
    "## Features and Normalization"
   ]
  },
  {
   "cell_type": "code",
   "execution_count": 8,
   "metadata": {
    "colab": {
     "base_uri": "https://localhost:8080/"
    },
    "id": "qs2_rxt4CRnR",
    "outputId": "f81f2f49-1aee-4ea1-831b-41f6f327650b"
   },
   "outputs": [],
   "source": [
    "features = [\n",
    "    'FLOW_NEXT_15_SUM',\n",
    "    'SPEED_NEXT_15_AVG',\n",
    "    'FLOW_SUM',\n",
    "    'SPEED_WEIGHTED_AVG',\n",
    "    'FLOW_PREV_5_SUM',\n",
    "    'FLOW_PREV_15_SUM',\n",
    "    'FLOW_PREV_60_SUM',\n",
    "    'SPEED_PREV_5_AVG',\n",
    "    'SPEED_PREV_15_AVG',\n",
    "    'SPEED_PREV_60_AVG',\n",
    "    'IS_WEEKDAY',\n",
    "    'Interval_30'\n",
    "]\n",
    "\n",
    "train_df = train_df[features]\n",
    "#train_df = train_df.iloc[:30000]\n",
    "\n",
    "x = train_df.drop(['FLOW_NEXT_15_SUM', 'SPEED_NEXT_15_AVG'], axis=1)\n",
    "\n",
    "#y = train_df[['FLOW_NEXT_15_SUM', 'SPEED_NEXT_15_AVG']]\n",
    "y = train_df['FLOW_NEXT_15_SUM']\n",
    "\n",
    "X_train, X_test, y_train, y_test = train_test_split(x, y, test_size=0.2, random_state=42)\n",
    "\n",
    "scaler_x = MinMaxScaler()\n",
    "X_train = scaler_x.fit_transform(X_train)\n",
    "X_test = scaler_x.transform(X_test)\n",
    "\n",
    "\n",
    "scaler_y = StandardScaler()\n",
    "#y_train = scaler_y.fit_transform(y_train)\n",
    "#y_test = scaler_y.transform(y_test)"
   ]
  },
  {
   "cell_type": "markdown",
   "metadata": {},
   "source": [
    "## Find Best Hyperparameters"
   ]
  },
  {
   "cell_type": "code",
   "execution_count": 9,
   "metadata": {
    "colab": {
     "base_uri": "https://localhost:8080/"
    },
    "id": "uHCeaDB5RCNC",
    "outputId": "4824f5d4-9334-4744-d1a9-55d2685fbec9"
   },
   "outputs": [
    {
     "name": "stdout",
     "output_type": "stream",
     "text": [
      "Reloading Tuner from my_dir/tune_exponential_units5/tuner0.json\n"
     ]
    }
   ],
   "source": [
    "from tensorflow.keras.layers import Dense, Dropout\n",
    "from tensorflow.keras.optimizers import Adam\n",
    "import keras_tuner as kt\n",
    "\n",
    "def build_model(hp):\n",
    "    model = Sequential()\n",
    "    \n",
    "    model.add(Dense(units=hp.Choice('l1_units', values=[32, 64, 128, 256]), \n",
    "                    activation=hp.Choice('activation_1', ['relu', 'tanh']),\n",
    "                    input_dim=X_train.shape[1]))\n",
    "\n",
    "    for i in range(hp.Int('num_layers', 1, 2)):\n",
    "        model.add(Dense(units=hp.Choice(f'l{i+2}_units', values=[32, 64, 128, 256]),\n",
    "                        activation=hp.Choice(f'activation_{i+2}', ['relu', 'tanh'])))\n",
    "        #model.add(Dropout(rate=hp.Choice(f'dropout_{i+2}', values=[0.0, 0.2])))\n",
    "\n",
    "    #model.add(Dense(2))\n",
    "    model.add(Dense(1))\n",
    "\n",
    "    model.compile(\n",
    "        optimizer=Adam(hp.Float('learning_rate', min_value=1e-4, max_value=1e-2, sampling='log')),\n",
    "        loss='mae',\n",
    "        metrics=['mae']\n",
    "    )\n",
    "\n",
    "    return model\n",
    "\n",
    "tuner = kt.Hyperband(build_model,\n",
    "                     objective='val_mae',\n",
    "                     max_epochs=50,\n",
    "                     factor=3,\n",
    "                     seed=42,\n",
    "                     directory='my_dir',\n",
    "                     project_name='tune_exponential_units5')\n",
    "\n",
    "early_stop = EarlyStopping(monitor='val_mae', patience=5, restore_best_weights=True)\n",
    "reduce_lr = ReduceLROnPlateau(monitor='val_mae', factor=0.5, patience=3)\n",
    "\n",
    "tuner.search(X_train, y_train, epochs=50, validation_split=0.2, batch_size=32, callbacks=[early_stop, reduce_lr])"
   ]
  },
  {
   "cell_type": "code",
   "execution_count": 10,
   "metadata": {
    "id": "q17Fr5emXtya"
   },
   "outputs": [
    {
     "name": "stdout",
     "output_type": "stream",
     "text": [
      "l1_units: 128\n",
      "activation_1: tanh\n",
      "num_layers: 1\n",
      "l2_units: 256\n",
      "activation_2: tanh\n",
      "learning_rate: 0.004569579155191588\n",
      "l3_units: 256\n",
      "activation_3: tanh\n",
      "tuner/epochs: 50\n",
      "tuner/initial_epoch: 17\n",
      "tuner/bracket: 2\n",
      "tuner/round: 2\n",
      "tuner/trial_id: 0068\n"
     ]
    }
   ],
   "source": [
    "best_hps = tuner.get_best_hyperparameters(num_trials=1)[0]\n",
    "\n",
    "for hp_name, hp_value in best_hps.values.items():\n",
    "    print(f\"{hp_name}: {hp_value}\")"
   ]
  },
  {
   "cell_type": "markdown",
   "metadata": {},
   "source": [
    "## Train Best Model"
   ]
  },
  {
   "cell_type": "code",
   "execution_count": 11,
   "metadata": {
    "id": "OGhFpKBSR-Ds"
   },
   "outputs": [
    {
     "name": "stdout",
     "output_type": "stream",
     "text": [
      "Epoch 1/50\n"
     ]
    },
    {
     "name": "stderr",
     "output_type": "stream",
     "text": [
      "/Users/algotsjoholm/anaconda3/lib/python3.11/site-packages/keras/src/layers/core/dense.py:87: UserWarning: Do not pass an `input_shape`/`input_dim` argument to a layer. When using Sequential models, prefer using an `Input(shape)` object as the first layer in the model instead.\n",
      "  super().__init__(activity_regularizer=activity_regularizer, **kwargs)\n"
     ]
    },
    {
     "name": "stdout",
     "output_type": "stream",
     "text": [
      "\u001b[1m255/255\u001b[0m \u001b[32m━━━━━━━━━━━━━━━━━━━━\u001b[0m\u001b[37m\u001b[0m \u001b[1m0s\u001b[0m 735us/step - loss: 561.7758 - mae: 561.7758 - val_loss: 392.2922 - val_mae: 392.2922 - learning_rate: 0.0046\n",
      "Epoch 2/50\n",
      "\u001b[1m255/255\u001b[0m \u001b[32m━━━━━━━━━━━━━━━━━━━━\u001b[0m\u001b[37m\u001b[0m \u001b[1m0s\u001b[0m 549us/step - loss: 351.9408 - mae: 351.9408 - val_loss: 231.3396 - val_mae: 231.3396 - learning_rate: 0.0046\n",
      "Epoch 3/50\n",
      "\u001b[1m255/255\u001b[0m \u001b[32m━━━━━━━━━━━━━━━━━━━━\u001b[0m\u001b[37m\u001b[0m \u001b[1m0s\u001b[0m 542us/step - loss: 197.3119 - mae: 197.3119 - val_loss: 118.7979 - val_mae: 118.7979 - learning_rate: 0.0046\n",
      "Epoch 4/50\n",
      "\u001b[1m255/255\u001b[0m \u001b[32m━━━━━━━━━━━━━━━━━━━━\u001b[0m\u001b[37m\u001b[0m \u001b[1m0s\u001b[0m 548us/step - loss: 92.1887 - mae: 92.1887 - val_loss: 46.8475 - val_mae: 46.8475 - learning_rate: 0.0046\n",
      "Epoch 5/50\n",
      "\u001b[1m255/255\u001b[0m \u001b[32m━━━━━━━━━━━━━━━━━━━━\u001b[0m\u001b[37m\u001b[0m \u001b[1m0s\u001b[0m 548us/step - loss: 42.2119 - mae: 42.2119 - val_loss: 40.6888 - val_mae: 40.6888 - learning_rate: 0.0046\n",
      "Epoch 6/50\n",
      "\u001b[1m255/255\u001b[0m \u001b[32m━━━━━━━━━━━━━━━━━━━━\u001b[0m\u001b[37m\u001b[0m \u001b[1m0s\u001b[0m 542us/step - loss: 37.4615 - mae: 37.4615 - val_loss: 35.3546 - val_mae: 35.3546 - learning_rate: 0.0046\n",
      "Epoch 7/50\n",
      "\u001b[1m255/255\u001b[0m \u001b[32m━━━━━━━━━━━━━━━━━━━━\u001b[0m\u001b[37m\u001b[0m \u001b[1m0s\u001b[0m 540us/step - loss: 34.7847 - mae: 34.7847 - val_loss: 35.2744 - val_mae: 35.2744 - learning_rate: 0.0046\n",
      "Epoch 8/50\n",
      "\u001b[1m255/255\u001b[0m \u001b[32m━━━━━━━━━━━━━━━━━━━━\u001b[0m\u001b[37m\u001b[0m \u001b[1m0s\u001b[0m 550us/step - loss: 34.6757 - mae: 34.6757 - val_loss: 36.6590 - val_mae: 36.6590 - learning_rate: 0.0046\n",
      "Epoch 9/50\n",
      "\u001b[1m255/255\u001b[0m \u001b[32m━━━━━━━━━━━━━━━━━━━━\u001b[0m\u001b[37m\u001b[0m \u001b[1m0s\u001b[0m 552us/step - loss: 35.2476 - mae: 35.2476 - val_loss: 34.1571 - val_mae: 34.1571 - learning_rate: 0.0046\n",
      "Epoch 10/50\n",
      "\u001b[1m255/255\u001b[0m \u001b[32m━━━━━━━━━━━━━━━━━━━━\u001b[0m\u001b[37m\u001b[0m \u001b[1m0s\u001b[0m 536us/step - loss: 34.2579 - mae: 34.2579 - val_loss: 33.4183 - val_mae: 33.4183 - learning_rate: 0.0046\n",
      "Epoch 11/50\n",
      "\u001b[1m255/255\u001b[0m \u001b[32m━━━━━━━━━━━━━━━━━━━━\u001b[0m\u001b[37m\u001b[0m \u001b[1m0s\u001b[0m 546us/step - loss: 34.7079 - mae: 34.7079 - val_loss: 33.3692 - val_mae: 33.3692 - learning_rate: 0.0046\n",
      "Epoch 12/50\n",
      "\u001b[1m255/255\u001b[0m \u001b[32m━━━━━━━━━━━━━━━━━━━━\u001b[0m\u001b[37m\u001b[0m \u001b[1m0s\u001b[0m 532us/step - loss: 33.5001 - mae: 33.5001 - val_loss: 34.0258 - val_mae: 34.0258 - learning_rate: 0.0046\n",
      "Epoch 13/50\n",
      "\u001b[1m255/255\u001b[0m \u001b[32m━━━━━━━━━━━━━━━━━━━━\u001b[0m\u001b[37m\u001b[0m \u001b[1m0s\u001b[0m 555us/step - loss: 33.0469 - mae: 33.0469 - val_loss: 34.1075 - val_mae: 34.1075 - learning_rate: 0.0046\n",
      "Epoch 14/50\n",
      "\u001b[1m255/255\u001b[0m \u001b[32m━━━━━━━━━━━━━━━━━━━━\u001b[0m\u001b[37m\u001b[0m \u001b[1m0s\u001b[0m 541us/step - loss: 32.5290 - mae: 32.5290 - val_loss: 33.4790 - val_mae: 33.4790 - learning_rate: 0.0046\n",
      "Epoch 15/50\n",
      "\u001b[1m255/255\u001b[0m \u001b[32m━━━━━━━━━━━━━━━━━━━━\u001b[0m\u001b[37m\u001b[0m \u001b[1m0s\u001b[0m 575us/step - loss: 32.5618 - mae: 32.5618 - val_loss: 34.3006 - val_mae: 34.3006 - learning_rate: 0.0023\n",
      "Epoch 16/50\n",
      "\u001b[1m255/255\u001b[0m \u001b[32m━━━━━━━━━━━━━━━━━━━━\u001b[0m\u001b[37m\u001b[0m \u001b[1m0s\u001b[0m 553us/step - loss: 32.5621 - mae: 32.5621 - val_loss: 33.2012 - val_mae: 33.2012 - learning_rate: 0.0023\n",
      "Epoch 17/50\n",
      "\u001b[1m255/255\u001b[0m \u001b[32m━━━━━━━━━━━━━━━━━━━━\u001b[0m\u001b[37m\u001b[0m \u001b[1m0s\u001b[0m 568us/step - loss: 32.7262 - mae: 32.7262 - val_loss: 33.0625 - val_mae: 33.0625 - learning_rate: 0.0023\n",
      "Epoch 18/50\n",
      "\u001b[1m255/255\u001b[0m \u001b[32m━━━━━━━━━━━━━━━━━━━━\u001b[0m\u001b[37m\u001b[0m \u001b[1m0s\u001b[0m 538us/step - loss: 32.2045 - mae: 32.2045 - val_loss: 33.1192 - val_mae: 33.1192 - learning_rate: 0.0023\n",
      "Epoch 19/50\n",
      "\u001b[1m255/255\u001b[0m \u001b[32m━━━━━━━━━━━━━━━━━━━━\u001b[0m\u001b[37m\u001b[0m \u001b[1m0s\u001b[0m 543us/step - loss: 33.0905 - mae: 33.0905 - val_loss: 33.5900 - val_mae: 33.5900 - learning_rate: 0.0023\n",
      "Epoch 20/50\n",
      "\u001b[1m255/255\u001b[0m \u001b[32m━━━━━━━━━━━━━━━━━━━━\u001b[0m\u001b[37m\u001b[0m \u001b[1m0s\u001b[0m 579us/step - loss: 32.9357 - mae: 32.9357 - val_loss: 32.7792 - val_mae: 32.7792 - learning_rate: 0.0023\n",
      "Epoch 21/50\n",
      "\u001b[1m255/255\u001b[0m \u001b[32m━━━━━━━━━━━━━━━━━━━━\u001b[0m\u001b[37m\u001b[0m \u001b[1m0s\u001b[0m 552us/step - loss: 31.9083 - mae: 31.9083 - val_loss: 32.7667 - val_mae: 32.7667 - learning_rate: 0.0023\n",
      "Epoch 22/50\n",
      "\u001b[1m255/255\u001b[0m \u001b[32m━━━━━━━━━━━━━━━━━━━━\u001b[0m\u001b[37m\u001b[0m \u001b[1m0s\u001b[0m 568us/step - loss: 32.6019 - mae: 32.6019 - val_loss: 32.5943 - val_mae: 32.5943 - learning_rate: 0.0023\n",
      "Epoch 23/50\n",
      "\u001b[1m255/255\u001b[0m \u001b[32m━━━━━━━━━━━━━━━━━━━━\u001b[0m\u001b[37m\u001b[0m \u001b[1m0s\u001b[0m 555us/step - loss: 32.0783 - mae: 32.0783 - val_loss: 32.9867 - val_mae: 32.9867 - learning_rate: 0.0023\n",
      "Epoch 24/50\n",
      "\u001b[1m255/255\u001b[0m \u001b[32m━━━━━━━━━━━━━━━━━━━━\u001b[0m\u001b[37m\u001b[0m \u001b[1m0s\u001b[0m 576us/step - loss: 32.7125 - mae: 32.7125 - val_loss: 32.8639 - val_mae: 32.8639 - learning_rate: 0.0023\n",
      "Epoch 25/50\n",
      "\u001b[1m255/255\u001b[0m \u001b[32m━━━━━━━━━━━━━━━━━━━━\u001b[0m\u001b[37m\u001b[0m \u001b[1m0s\u001b[0m 551us/step - loss: 32.5948 - mae: 32.5948 - val_loss: 32.5388 - val_mae: 32.5388 - learning_rate: 0.0023\n",
      "Epoch 26/50\n",
      "\u001b[1m255/255\u001b[0m \u001b[32m━━━━━━━━━━━━━━━━━━━━\u001b[0m\u001b[37m\u001b[0m \u001b[1m0s\u001b[0m 552us/step - loss: 31.8916 - mae: 31.8916 - val_loss: 34.2665 - val_mae: 34.2665 - learning_rate: 0.0023\n",
      "Epoch 27/50\n",
      "\u001b[1m255/255\u001b[0m \u001b[32m━━━━━━━━━━━━━━━━━━━━\u001b[0m\u001b[37m\u001b[0m \u001b[1m0s\u001b[0m 561us/step - loss: 32.8363 - mae: 32.8363 - val_loss: 33.8697 - val_mae: 33.8697 - learning_rate: 0.0023\n",
      "Epoch 28/50\n",
      "\u001b[1m255/255\u001b[0m \u001b[32m━━━━━━━━━━━━━━━━━━━━\u001b[0m\u001b[37m\u001b[0m \u001b[1m0s\u001b[0m 558us/step - loss: 31.8769 - mae: 31.8769 - val_loss: 33.2199 - val_mae: 33.2199 - learning_rate: 0.0023\n",
      "Epoch 29/50\n",
      "\u001b[1m255/255\u001b[0m \u001b[32m━━━━━━━━━━━━━━━━━━━━\u001b[0m\u001b[37m\u001b[0m \u001b[1m0s\u001b[0m 555us/step - loss: 31.7378 - mae: 31.7378 - val_loss: 32.3888 - val_mae: 32.3888 - learning_rate: 0.0011\n",
      "Epoch 30/50\n",
      "\u001b[1m255/255\u001b[0m \u001b[32m━━━━━━━━━━━━━━━━━━━━\u001b[0m\u001b[37m\u001b[0m \u001b[1m0s\u001b[0m 560us/step - loss: 31.6052 - mae: 31.6052 - val_loss: 32.5617 - val_mae: 32.5617 - learning_rate: 0.0011\n",
      "Epoch 31/50\n",
      "\u001b[1m255/255\u001b[0m \u001b[32m━━━━━━━━━━━━━━━━━━━━\u001b[0m\u001b[37m\u001b[0m \u001b[1m0s\u001b[0m 601us/step - loss: 31.2145 - mae: 31.2145 - val_loss: 32.3108 - val_mae: 32.3108 - learning_rate: 0.0011\n",
      "Epoch 32/50\n",
      "\u001b[1m255/255\u001b[0m \u001b[32m━━━━━━━━━━━━━━━━━━━━\u001b[0m\u001b[37m\u001b[0m \u001b[1m0s\u001b[0m 555us/step - loss: 31.9235 - mae: 31.9235 - val_loss: 32.1792 - val_mae: 32.1792 - learning_rate: 0.0011\n",
      "Epoch 33/50\n",
      "\u001b[1m255/255\u001b[0m \u001b[32m━━━━━━━━━━━━━━━━━━━━\u001b[0m\u001b[37m\u001b[0m \u001b[1m0s\u001b[0m 546us/step - loss: 32.4862 - mae: 32.4862 - val_loss: 33.4309 - val_mae: 33.4309 - learning_rate: 0.0011\n",
      "Epoch 34/50\n",
      "\u001b[1m255/255\u001b[0m \u001b[32m━━━━━━━━━━━━━━━━━━━━\u001b[0m\u001b[37m\u001b[0m \u001b[1m0s\u001b[0m 576us/step - loss: 31.5697 - mae: 31.5697 - val_loss: 32.4312 - val_mae: 32.4312 - learning_rate: 0.0011\n",
      "Epoch 35/50\n",
      "\u001b[1m255/255\u001b[0m \u001b[32m━━━━━━━━━━━━━━━━━━━━\u001b[0m\u001b[37m\u001b[0m \u001b[1m0s\u001b[0m 552us/step - loss: 31.8436 - mae: 31.8436 - val_loss: 32.4516 - val_mae: 32.4516 - learning_rate: 0.0011\n",
      "Epoch 36/50\n",
      "\u001b[1m255/255\u001b[0m \u001b[32m━━━━━━━━━━━━━━━━━━━━\u001b[0m\u001b[37m\u001b[0m \u001b[1m0s\u001b[0m 545us/step - loss: 31.8664 - mae: 31.8664 - val_loss: 32.5390 - val_mae: 32.5390 - learning_rate: 5.7120e-04\n",
      "Epoch 37/50\n",
      "\u001b[1m255/255\u001b[0m \u001b[32m━━━━━━━━━━━━━━━━━━━━\u001b[0m\u001b[37m\u001b[0m \u001b[1m0s\u001b[0m 553us/step - loss: 31.0959 - mae: 31.0959 - val_loss: 32.2220 - val_mae: 32.2220 - learning_rate: 5.7120e-04\n"
     ]
    }
   ],
   "source": [
    "best_model = tuner.hypermodel.build(best_hps)\n",
    "history = best_model.fit(X_train, y_train, epochs=50, validation_split=0.2, batch_size=32, callbacks=[early_stop, reduce_lr])"
   ]
  },
  {
   "cell_type": "code",
   "execution_count": 12,
   "metadata": {
    "id": "kvJDoE19R--c"
   },
   "outputs": [
    {
     "data": {
      "text/html": [
       "<div>\n",
       "<style scoped>\n",
       "    .dataframe tbody tr th:only-of-type {\n",
       "        vertical-align: middle;\n",
       "    }\n",
       "\n",
       "    .dataframe tbody tr th {\n",
       "        vertical-align: top;\n",
       "    }\n",
       "\n",
       "    .dataframe thead th {\n",
       "        text-align: right;\n",
       "    }\n",
       "</style>\n",
       "<table border=\"1\" class=\"dataframe\">\n",
       "  <thead>\n",
       "    <tr style=\"text-align: right;\">\n",
       "      <th></th>\n",
       "      <th>loss</th>\n",
       "      <th>mae</th>\n",
       "      <th>val_loss</th>\n",
       "      <th>val_mae</th>\n",
       "      <th>learning_rate</th>\n",
       "    </tr>\n",
       "  </thead>\n",
       "  <tbody>\n",
       "    <tr>\n",
       "      <th>0</th>\n",
       "      <td>491.568115</td>\n",
       "      <td>491.568115</td>\n",
       "      <td>392.292175</td>\n",
       "      <td>392.292175</td>\n",
       "      <td>0.004570</td>\n",
       "    </tr>\n",
       "    <tr>\n",
       "      <th>1</th>\n",
       "      <td>309.227753</td>\n",
       "      <td>309.227753</td>\n",
       "      <td>231.339600</td>\n",
       "      <td>231.339600</td>\n",
       "      <td>0.004570</td>\n",
       "    </tr>\n",
       "    <tr>\n",
       "      <th>2</th>\n",
       "      <td>167.880493</td>\n",
       "      <td>167.880493</td>\n",
       "      <td>118.797913</td>\n",
       "      <td>118.797913</td>\n",
       "      <td>0.004570</td>\n",
       "    </tr>\n",
       "    <tr>\n",
       "      <th>3</th>\n",
       "      <td>72.064552</td>\n",
       "      <td>72.064552</td>\n",
       "      <td>46.847523</td>\n",
       "      <td>46.847523</td>\n",
       "      <td>0.004570</td>\n",
       "    </tr>\n",
       "    <tr>\n",
       "      <th>4</th>\n",
       "      <td>39.446651</td>\n",
       "      <td>39.446651</td>\n",
       "      <td>40.688789</td>\n",
       "      <td>40.688789</td>\n",
       "      <td>0.004570</td>\n",
       "    </tr>\n",
       "    <tr>\n",
       "      <th>5</th>\n",
       "      <td>37.016479</td>\n",
       "      <td>37.016479</td>\n",
       "      <td>35.354588</td>\n",
       "      <td>35.354588</td>\n",
       "      <td>0.004570</td>\n",
       "    </tr>\n",
       "    <tr>\n",
       "      <th>6</th>\n",
       "      <td>34.930988</td>\n",
       "      <td>34.930988</td>\n",
       "      <td>35.274448</td>\n",
       "      <td>35.274448</td>\n",
       "      <td>0.004570</td>\n",
       "    </tr>\n",
       "    <tr>\n",
       "      <th>7</th>\n",
       "      <td>34.861431</td>\n",
       "      <td>34.861431</td>\n",
       "      <td>36.658962</td>\n",
       "      <td>36.658962</td>\n",
       "      <td>0.004570</td>\n",
       "    </tr>\n",
       "    <tr>\n",
       "      <th>8</th>\n",
       "      <td>34.307629</td>\n",
       "      <td>34.307629</td>\n",
       "      <td>34.157139</td>\n",
       "      <td>34.157139</td>\n",
       "      <td>0.004570</td>\n",
       "    </tr>\n",
       "    <tr>\n",
       "      <th>9</th>\n",
       "      <td>34.230042</td>\n",
       "      <td>34.230042</td>\n",
       "      <td>33.418274</td>\n",
       "      <td>33.418274</td>\n",
       "      <td>0.004570</td>\n",
       "    </tr>\n",
       "    <tr>\n",
       "      <th>10</th>\n",
       "      <td>34.033512</td>\n",
       "      <td>34.033512</td>\n",
       "      <td>33.369202</td>\n",
       "      <td>33.369202</td>\n",
       "      <td>0.004570</td>\n",
       "    </tr>\n",
       "    <tr>\n",
       "      <th>11</th>\n",
       "      <td>33.590309</td>\n",
       "      <td>33.590309</td>\n",
       "      <td>34.025837</td>\n",
       "      <td>34.025837</td>\n",
       "      <td>0.004570</td>\n",
       "    </tr>\n",
       "    <tr>\n",
       "      <th>12</th>\n",
       "      <td>33.320545</td>\n",
       "      <td>33.320545</td>\n",
       "      <td>34.107525</td>\n",
       "      <td>34.107525</td>\n",
       "      <td>0.004570</td>\n",
       "    </tr>\n",
       "    <tr>\n",
       "      <th>13</th>\n",
       "      <td>33.350674</td>\n",
       "      <td>33.350674</td>\n",
       "      <td>33.479050</td>\n",
       "      <td>33.479050</td>\n",
       "      <td>0.004570</td>\n",
       "    </tr>\n",
       "    <tr>\n",
       "      <th>14</th>\n",
       "      <td>32.781559</td>\n",
       "      <td>32.781559</td>\n",
       "      <td>34.300648</td>\n",
       "      <td>34.300648</td>\n",
       "      <td>0.002285</td>\n",
       "    </tr>\n",
       "    <tr>\n",
       "      <th>15</th>\n",
       "      <td>32.672367</td>\n",
       "      <td>32.672367</td>\n",
       "      <td>33.201183</td>\n",
       "      <td>33.201183</td>\n",
       "      <td>0.002285</td>\n",
       "    </tr>\n",
       "    <tr>\n",
       "      <th>16</th>\n",
       "      <td>32.640553</td>\n",
       "      <td>32.640553</td>\n",
       "      <td>33.062538</td>\n",
       "      <td>33.062538</td>\n",
       "      <td>0.002285</td>\n",
       "    </tr>\n",
       "    <tr>\n",
       "      <th>17</th>\n",
       "      <td>32.740761</td>\n",
       "      <td>32.740761</td>\n",
       "      <td>33.119198</td>\n",
       "      <td>33.119198</td>\n",
       "      <td>0.002285</td>\n",
       "    </tr>\n",
       "    <tr>\n",
       "      <th>18</th>\n",
       "      <td>32.647449</td>\n",
       "      <td>32.647449</td>\n",
       "      <td>33.589951</td>\n",
       "      <td>33.589951</td>\n",
       "      <td>0.002285</td>\n",
       "    </tr>\n",
       "    <tr>\n",
       "      <th>19</th>\n",
       "      <td>32.521160</td>\n",
       "      <td>32.521160</td>\n",
       "      <td>32.779190</td>\n",
       "      <td>32.779190</td>\n",
       "      <td>0.002285</td>\n",
       "    </tr>\n",
       "    <tr>\n",
       "      <th>20</th>\n",
       "      <td>32.401299</td>\n",
       "      <td>32.401299</td>\n",
       "      <td>32.766693</td>\n",
       "      <td>32.766693</td>\n",
       "      <td>0.002285</td>\n",
       "    </tr>\n",
       "    <tr>\n",
       "      <th>21</th>\n",
       "      <td>32.333515</td>\n",
       "      <td>32.333515</td>\n",
       "      <td>32.594292</td>\n",
       "      <td>32.594292</td>\n",
       "      <td>0.002285</td>\n",
       "    </tr>\n",
       "    <tr>\n",
       "      <th>22</th>\n",
       "      <td>32.450626</td>\n",
       "      <td>32.450626</td>\n",
       "      <td>32.986656</td>\n",
       "      <td>32.986656</td>\n",
       "      <td>0.002285</td>\n",
       "    </tr>\n",
       "    <tr>\n",
       "      <th>23</th>\n",
       "      <td>32.545418</td>\n",
       "      <td>32.545418</td>\n",
       "      <td>32.863857</td>\n",
       "      <td>32.863857</td>\n",
       "      <td>0.002285</td>\n",
       "    </tr>\n",
       "    <tr>\n",
       "      <th>24</th>\n",
       "      <td>32.306530</td>\n",
       "      <td>32.306530</td>\n",
       "      <td>32.538822</td>\n",
       "      <td>32.538822</td>\n",
       "      <td>0.002285</td>\n",
       "    </tr>\n",
       "    <tr>\n",
       "      <th>25</th>\n",
       "      <td>32.210995</td>\n",
       "      <td>32.210995</td>\n",
       "      <td>34.266529</td>\n",
       "      <td>34.266529</td>\n",
       "      <td>0.002285</td>\n",
       "    </tr>\n",
       "    <tr>\n",
       "      <th>26</th>\n",
       "      <td>32.299381</td>\n",
       "      <td>32.299381</td>\n",
       "      <td>33.869652</td>\n",
       "      <td>33.869652</td>\n",
       "      <td>0.002285</td>\n",
       "    </tr>\n",
       "    <tr>\n",
       "      <th>27</th>\n",
       "      <td>32.103935</td>\n",
       "      <td>32.103935</td>\n",
       "      <td>33.219940</td>\n",
       "      <td>33.219940</td>\n",
       "      <td>0.002285</td>\n",
       "    </tr>\n",
       "    <tr>\n",
       "      <th>28</th>\n",
       "      <td>31.824657</td>\n",
       "      <td>31.824657</td>\n",
       "      <td>32.388760</td>\n",
       "      <td>32.388760</td>\n",
       "      <td>0.001142</td>\n",
       "    </tr>\n",
       "    <tr>\n",
       "      <th>29</th>\n",
       "      <td>31.836832</td>\n",
       "      <td>31.836832</td>\n",
       "      <td>32.561661</td>\n",
       "      <td>32.561661</td>\n",
       "      <td>0.001142</td>\n",
       "    </tr>\n",
       "    <tr>\n",
       "      <th>30</th>\n",
       "      <td>31.765013</td>\n",
       "      <td>31.765013</td>\n",
       "      <td>32.310768</td>\n",
       "      <td>32.310768</td>\n",
       "      <td>0.001142</td>\n",
       "    </tr>\n",
       "    <tr>\n",
       "      <th>31</th>\n",
       "      <td>31.780689</td>\n",
       "      <td>31.780689</td>\n",
       "      <td>32.179218</td>\n",
       "      <td>32.179218</td>\n",
       "      <td>0.001142</td>\n",
       "    </tr>\n",
       "    <tr>\n",
       "      <th>32</th>\n",
       "      <td>31.754921</td>\n",
       "      <td>31.754921</td>\n",
       "      <td>33.430855</td>\n",
       "      <td>33.430855</td>\n",
       "      <td>0.001142</td>\n",
       "    </tr>\n",
       "    <tr>\n",
       "      <th>33</th>\n",
       "      <td>31.760202</td>\n",
       "      <td>31.760202</td>\n",
       "      <td>32.431221</td>\n",
       "      <td>32.431221</td>\n",
       "      <td>0.001142</td>\n",
       "    </tr>\n",
       "    <tr>\n",
       "      <th>34</th>\n",
       "      <td>31.677500</td>\n",
       "      <td>31.677500</td>\n",
       "      <td>32.451626</td>\n",
       "      <td>32.451626</td>\n",
       "      <td>0.001142</td>\n",
       "    </tr>\n",
       "    <tr>\n",
       "      <th>35</th>\n",
       "      <td>31.472437</td>\n",
       "      <td>31.472437</td>\n",
       "      <td>32.538967</td>\n",
       "      <td>32.538967</td>\n",
       "      <td>0.000571</td>\n",
       "    </tr>\n",
       "    <tr>\n",
       "      <th>36</th>\n",
       "      <td>31.400261</td>\n",
       "      <td>31.400261</td>\n",
       "      <td>32.221954</td>\n",
       "      <td>32.221954</td>\n",
       "      <td>0.000571</td>\n",
       "    </tr>\n",
       "  </tbody>\n",
       "</table>\n",
       "</div>"
      ],
      "text/plain": [
       "          loss         mae    val_loss     val_mae  learning_rate\n",
       "0   491.568115  491.568115  392.292175  392.292175       0.004570\n",
       "1   309.227753  309.227753  231.339600  231.339600       0.004570\n",
       "2   167.880493  167.880493  118.797913  118.797913       0.004570\n",
       "3    72.064552   72.064552   46.847523   46.847523       0.004570\n",
       "4    39.446651   39.446651   40.688789   40.688789       0.004570\n",
       "5    37.016479   37.016479   35.354588   35.354588       0.004570\n",
       "6    34.930988   34.930988   35.274448   35.274448       0.004570\n",
       "7    34.861431   34.861431   36.658962   36.658962       0.004570\n",
       "8    34.307629   34.307629   34.157139   34.157139       0.004570\n",
       "9    34.230042   34.230042   33.418274   33.418274       0.004570\n",
       "10   34.033512   34.033512   33.369202   33.369202       0.004570\n",
       "11   33.590309   33.590309   34.025837   34.025837       0.004570\n",
       "12   33.320545   33.320545   34.107525   34.107525       0.004570\n",
       "13   33.350674   33.350674   33.479050   33.479050       0.004570\n",
       "14   32.781559   32.781559   34.300648   34.300648       0.002285\n",
       "15   32.672367   32.672367   33.201183   33.201183       0.002285\n",
       "16   32.640553   32.640553   33.062538   33.062538       0.002285\n",
       "17   32.740761   32.740761   33.119198   33.119198       0.002285\n",
       "18   32.647449   32.647449   33.589951   33.589951       0.002285\n",
       "19   32.521160   32.521160   32.779190   32.779190       0.002285\n",
       "20   32.401299   32.401299   32.766693   32.766693       0.002285\n",
       "21   32.333515   32.333515   32.594292   32.594292       0.002285\n",
       "22   32.450626   32.450626   32.986656   32.986656       0.002285\n",
       "23   32.545418   32.545418   32.863857   32.863857       0.002285\n",
       "24   32.306530   32.306530   32.538822   32.538822       0.002285\n",
       "25   32.210995   32.210995   34.266529   34.266529       0.002285\n",
       "26   32.299381   32.299381   33.869652   33.869652       0.002285\n",
       "27   32.103935   32.103935   33.219940   33.219940       0.002285\n",
       "28   31.824657   31.824657   32.388760   32.388760       0.001142\n",
       "29   31.836832   31.836832   32.561661   32.561661       0.001142\n",
       "30   31.765013   31.765013   32.310768   32.310768       0.001142\n",
       "31   31.780689   31.780689   32.179218   32.179218       0.001142\n",
       "32   31.754921   31.754921   33.430855   33.430855       0.001142\n",
       "33   31.760202   31.760202   32.431221   32.431221       0.001142\n",
       "34   31.677500   31.677500   32.451626   32.451626       0.001142\n",
       "35   31.472437   31.472437   32.538967   32.538967       0.000571\n",
       "36   31.400261   31.400261   32.221954   32.221954       0.000571"
      ]
     },
     "execution_count": 12,
     "metadata": {},
     "output_type": "execute_result"
    }
   ],
   "source": [
    "pd.DataFrame(history.history)"
   ]
  },
  {
   "cell_type": "code",
   "execution_count": 13,
   "metadata": {
    "id": "N1n-E7o6SDZm"
   },
   "outputs": [
    {
     "data": {
      "image/png": "[encoded data removed]",
      "text/plain": [
       "<Figure size 640x480 with 1 Axes>"
      ]
     },
     "metadata": {},
     "output_type": "display_data"
    }
   ],
   "source": [
    "sns.set()\n",
    "\n",
    "err = history.history['mae']\n",
    "val_err = history.history['val_mae']\n",
    "epochs = range(1, len(err) + 1)\n",
    "\n",
    "plt.plot(epochs, err, '-', label='Training MAE')\n",
    "plt.plot(epochs, val_err, ':', label='Validation MAE')\n",
    "plt.title('Training and Validation MAE')\n",
    "plt.xlabel('Epoch')\n",
    "plt.ylabel('Mean Absolute Error')\n",
    "plt.legend(loc='upper right')\n",
    "plt.show()"
   ]
  },
  {
   "cell_type": "markdown",
   "metadata": {},
   "source": [
    "# Evaluation Results"
   ]
  },
  {
   "cell_type": "markdown",
   "metadata": {},
   "source": [
    "## Evaluation on Test Split"
   ]
  },
  {
   "cell_type": "code",
   "execution_count": 14,
   "metadata": {
    "id": "TJuuO_cOSKKk"
   },
   "outputs": [
    {
     "name": "stdout",
     "output_type": "stream",
     "text": [
      "\u001b[1m80/80\u001b[0m \u001b[32m━━━━━━━━━━━━━━━━━━━━\u001b[0m\u001b[37m\u001b[0m \u001b[1m0s\u001b[0m 1ms/step\n",
      "--------------------------------------Result from the best model on test data ---------------------------------------------\n",
      "Target 1 - Mean Absolute Error (MAE): 32.08502767970727\n",
      "Target 1 - Mean Squared Error (MSE): 1961.6340878572933\n",
      "Target 1 - R-squared (R^2): 0.9796621932265139\n"
     ]
    }
   ],
   "source": [
    "from sklearn.metrics import mean_absolute_error, mean_squared_error, r2_score\n",
    "\n",
    "y_pred = best_model.predict(X_test)\n",
    "\n",
    "#y_pred = scaler_y.inverse_transform(y_pred)\n",
    "#y_test = scaler_y.inverse_transform(y_test)\n",
    "\n",
    "'''mae_1 = mean_absolute_error(y_test[:, 0], y_pred[:, 0])\n",
    "mse_1 = mean_squared_error(y_test[:, 0], y_pred[:, 0])\n",
    "r2_1 = r2_score(y_test[:, 0], y_pred[:, 0])\n",
    "\n",
    "# Calculate metrics for the second target variable (e.g., SPEED_NEXT_15_AVG)\n",
    "mae_2 = mean_absolute_error(y_test[:, 1], y_pred[:, 1])\n",
    "mse_2 = mean_squared_error(y_test[:, 1], y_pred[:, 1])\n",
    "r2_2 = r2_score(y_test[:, 1], y_pred[:, 1])\n",
    "\n",
    "# Optionally, calculate the overall mean of the MAE, MSE, and R^2 across both outputs\n",
    "mae_avg = (mae_1 + mae_2) / 2\n",
    "mse_avg = (mse_1 + mse_2) / 2\n",
    "r2_avg = (r2_1 + r2_2) / 2\n",
    "\n",
    "print('--------------------------------------Result from the best model on test data ---------------------------------------------')\n",
    "print(f\"Target 1 - Mean Absolute Error (MAE): {mae_1}\")\n",
    "print(f\"Target 1 - Mean Squared Error (MSE): {mse_1}\")\n",
    "print(f\"Target 1 - R-squared (R^2): {r2_1}\")\n",
    "print()\n",
    "print(f\"Target 2 - Mean Absolute Error (MAE): {mae_2}\")\n",
    "print(f\"Target 2 - Mean Squared Error (MSE): {mse_2}\")\n",
    "print(f\"Target 2 - R-squared (R^2): {r2_2}\")\n",
    "print()\n",
    "print(f\"Average MAE: {mae_avg}\")\n",
    "print(f\"Average MSE: {mse_avg}\")\n",
    "print(f\"Average R-squared: {r2_avg}\")'''\n",
    "\n",
    "mae_1 = mean_absolute_error(y_test, y_pred)\n",
    "mse_1 = mean_squared_error(y_test, y_pred)\n",
    "r2_1 = r2_score(y_test, y_pred)\n",
    "\n",
    "print('--------------------------------------Result from the best model on test data ---------------------------------------------')\n",
    "print(f\"Target 1 - Mean Absolute Error (MAE): {mae_1}\")\n",
    "print(f\"Target 1 - Mean Squared Error (MSE): {mse_1}\")\n",
    "print(f\"Target 1 - R-squared (R^2): {r2_1}\")\n"
   ]
  },
  {
   "cell_type": "markdown",
   "metadata": {
    "id": "DEffz_iBTp0R"
   },
   "source": [
    "## Evaluation on Full Final Evaluation Dataset"
   ]
  },
  {
   "cell_type": "code",
   "execution_count": 15,
   "metadata": {
    "id": "Chy40x01TpHB"
   },
   "outputs": [
    {
     "name": "stdout",
     "output_type": "stream",
     "text": [
      "\u001b[1m798/798\u001b[0m \u001b[32m━━━━━━━━━━━━━━━━━━━━\u001b[0m\u001b[37m\u001b[0m \u001b[1m0s\u001b[0m 263us/step\n",
      "--------------------------------------Result from the best model on test data ---------------------------------------------\n",
      "Target 1 - Mean Absolute Error (MAE): 93.59403839133948\n",
      "Target 1 - Mean Squared Error (MSE): 17639.730082568334\n",
      "Target 1 - R-squared (R^2): 0.8249134283755205\n"
     ]
    }
   ],
   "source": [
    "eval_df = eval_df[features]\n",
    "\n",
    "x_eval = eval_df.drop(['FLOW_NEXT_15_SUM', 'SPEED_NEXT_15_AVG'], axis=1)\n",
    "#y_eval = eval_df[['FLOW_NEXT_15_SUM', 'SPEED_NEXT_15_AVG']]\n",
    "y_eval = eval_df['FLOW_NEXT_15_SUM']\n",
    "\n",
    "x_eval = scaler_x.transform(x_eval)\n",
    "\n",
    "y_pred = best_model.predict(x_eval)\n",
    "\n",
    "#y_pred = scaler_y.inverse_transform(y_pred)\n",
    "#y_eval = scaler_y.inverse_transform(y_eval)\n",
    "\n",
    "'''mae_1 = mean_absolute_error(y_eval['FLOW_NEXT_15_SUM'], y_pred[:, 0])\n",
    "mse_1 = mean_squared_error(y_eval['FLOW_NEXT_15_SUM'], y_pred[:, 0])\n",
    "r2_1 = r2_score(y_eval['FLOW_NEXT_15_SUM'], y_pred[:, 0])\n",
    "\n",
    "# Calculate metrics for the second target variable (e.g., SPEED_NEXT_15_AVG)\n",
    "mae_2 = mean_absolute_error(y_eval['SPEED_NEXT_15_AVG'], y_pred[:, 1])\n",
    "mse_2 = mean_squared_error(y_eval['SPEED_NEXT_15_AVG'], y_pred[:, 1])\n",
    "r2_2 = r2_score(y_eval['SPEED_NEXT_15_AVG'], y_pred[:, 1])\n",
    "\n",
    "# Optionally, calculate the overall mean of the MAE, MSE, and R^2 across both outputs\n",
    "mae_avg = (mae_1 + mae_2) / 2\n",
    "mse_avg = (mse_1 + mse_2) / 2\n",
    "r2_avg = (r2_1 + r2_2) / 2\n",
    "\n",
    "print('--------------------------------------Result from the best model on test data ---------------------------------------------')\n",
    "print(f\"Target 1 - Mean Absolute Error (MAE): {mae_1}\")\n",
    "print(f\"Target 1 - Mean Squared Error (MSE): {mse_1}\")\n",
    "print(f\"Target 1 - R-squared (R^2): {r2_1}\")\n",
    "print()\n",
    "print(f\"Target 2 - Mean Absolute Error (MAE): {mae_2}\")\n",
    "print(f\"Target 2 - Mean Squared Error (MSE): {mse_2}\")\n",
    "print(f\"Target 2 - R-squared (R^2): {r2_2}\")\n",
    "print()\n",
    "print(f\"Average MAE: {mae_avg}\")\n",
    "print(f\"Average MSE: {mse_avg}\")\n",
    "print(f\"Average R-squared: {r2_avg}\")'''\n",
    "\n",
    "mae_1 = mean_absolute_error(y_eval, y_pred)\n",
    "mse_1 = mean_squared_error(y_eval, y_pred)\n",
    "r2_1 = r2_score(y_eval, y_pred)\n",
    "\n",
    "print('--------------------------------------Result from the best model on test data ---------------------------------------------')\n",
    "print(f\"Target 1 - Mean Absolute Error (MAE): {mae_1}\")\n",
    "print(f\"Target 1 - Mean Squared Error (MSE): {mse_1}\")\n",
    "print(f\"Target 1 - R-squared (R^2): {r2_1}\")\n"
   ]
  },
  {
   "cell_type": "markdown",
   "metadata": {
    "id": "TYoYzmS-Wv5U"
   },
   "source": [
    "## Evaluation on Peak Final Evaluation Dataset"
   ]
  },
  {
   "cell_type": "code",
   "execution_count": 16,
   "metadata": {
    "id": "rcvJJTxRWvWC"
   },
   "outputs": [
    {
     "name": "stdout",
     "output_type": "stream",
     "text": [
      "\u001b[1m169/169\u001b[0m \u001b[32m━━━━━━━━━━━━━━━━━━━━\u001b[0m\u001b[37m\u001b[0m \u001b[1m0s\u001b[0m 271us/step\n",
      "--------------------------------------Result from the best model on test data ---------------------------------------------\n",
      "Target 1 - Mean Absolute Error (MAE): 38.622933604139206\n",
      "Target 1 - Mean Squared Error (MSE): 3487.3930422818594\n",
      "Target 1 - R-squared (R^2): 0.9652948723321682\n"
     ]
    }
   ],
   "source": [
    "eval_df_peak= peak_eval_df[features]\n",
    "\n",
    "x_eval = eval_df_peak.drop(['FLOW_NEXT_15_SUM', 'SPEED_NEXT_15_AVG'], axis=1)\n",
    "#y_eval = eval_df_peak[['FLOW_NEXT_15_SUM', 'SPEED_NEXT_15_AVG']]\n",
    "y_eval = eval_df_peak['FLOW_NEXT_15_SUM']\n",
    "\n",
    "x_eval = scaler_x.transform(x_eval)\n",
    "\n",
    "#y_pred = scaler_y.inverse_transform(y_pred)\n",
    "#y_eval = scaler_y.inverse_transform(y_eval)\n",
    "\n",
    "y_pred = best_model.predict(x_eval)\n",
    "\n",
    "'''mae_1 = mean_absolute_error(y_eval['FLOW_NEXT_15_SUM'], y_pred[:, 0])\n",
    "mse_1 = mean_squared_error(y_eval['FLOW_NEXT_15_SUM'], y_pred[:, 0])\n",
    "r2_1 = r2_score(y_eval['FLOW_NEXT_15_SUM'], y_pred[:, 0])\n",
    "\n",
    "# Calculate metrics for the second target variable (e.g., SPEED_NEXT_15_AVG)\n",
    "mae_2 = mean_absolute_error(y_eval['SPEED_NEXT_15_AVG'], y_pred[:, 1])\n",
    "mse_2 = mean_squared_error(y_eval['SPEED_NEXT_15_AVG'], y_pred[:, 1])\n",
    "r2_2 = r2_score(y_eval['SPEED_NEXT_15_AVG'], y_pred[:, 1])\n",
    "\n",
    "print('--------------------------------------Result from the best model on test data ---------------------------------------------')\n",
    "print(f\"Target 1 - Mean Absolute Error (MAE): {mae_1}\")\n",
    "print(f\"Target 1 - Mean Squared Error (MSE): {mse_1}\")\n",
    "print(f\"Target 1 - R-squared (R^2): {r2_1}\")\n",
    "print()\n",
    "print(f\"Target 2 - Mean Absolute Error (MAE): {mae_2}\")\n",
    "print(f\"Target 2 - Mean Squared Error (MSE): {mse_2}\")\n",
    "print(f\"Target 2 - R-squared (R^2): {r2_2}\")\n",
    "print()\n",
    "print(f\"Average MAE: {mae_avg}\")\n",
    "print(f\"Average MSE: {mse_avg}\")\n",
    "print(f\"Average R-squared: {r2_avg}\")'''\n",
    "\n",
    "mae_1 = mean_absolute_error(y_eval, y_pred)\n",
    "mse_1 = mean_squared_error(y_eval, y_pred)\n",
    "r2_1 = r2_score(y_eval, y_pred)\n",
    "\n",
    "print('--------------------------------------Result from the best model on test data ---------------------------------------------')\n",
    "print(f\"Target 1 - Mean Absolute Error (MAE): {mae_1}\")\n",
    "print(f\"Target 1 - Mean Squared Error (MSE): {mse_1}\")\n",
    "print(f\"Target 1 - R-squared (R^2): {r2_1}\")"
   ]
  },
  {
   "cell_type": "markdown",
   "metadata": {},
   "source": [
    "# Save Model"
   ]
  },
  {
   "cell_type": "code",
   "execution_count": 17,
   "metadata": {
    "id": "Y0xSZK-XUvmB"
   },
   "outputs": [],
   "source": [
    "best_model.save('best_univar_NN_flow_portalTraining.keras')"
   ]
  },
  {
   "cell_type": "code",
   "execution_count": null,
   "metadata": {},
   "outputs": [],
   "source": []
  }
 ],
 "metadata": {
  "colab": {
   "provenance": []
  },
  "kernelspec": {
   "display_name": "Python 3 (ipykernel)",
   "language": "python",
   "name": "python3"
  },
  "language_info": {
   "codemirror_mode": {
    "name": "ipython",
    "version": 3
   },
   "file_extension": ".py",
   "mimetype": "text/x-python",
   "name": "python",
   "nbconvert_exporter": "python",
   "pygments_lexer": "ipython3",
   "version": "3.11.4"
  }
 },
 "nbformat": 4,
 "nbformat_minor": 1
}
